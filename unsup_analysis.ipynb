{
 "cells": [
  {
   "cell_type": "code",
   "execution_count": null,
   "id": "3c6318f3",
   "metadata": {},
   "outputs": [],
   "source": [
    "import pandas as pd\n",
    "import geopandas as gpd\n",
    "import numpy as np"
   ]
  },
  {
   "cell_type": "code",
   "execution_count": null,
   "id": "6b35b83c",
   "metadata": {},
   "outputs": [],
   "source": [
    "#Takes list of path names as input, concats files and outputs two dataframes (echos and sensors)\n",
    "def load_files(echo_files, sensor_files):\n",
    "    echos = pd.DataFrame()\n",
    "    sensors = pd.DataFrame()\n",
    "    for path in echo_files:\n",
    "        dfe = pd.read_csv(path)\n",
    "        echos = pd.concat([echos, dfe])\n",
    "        \n",
    "    for path in sensor_files:\n",
    "        dfs = pd.read_csv(path)\n",
    "        sensors = pd.concat([sensors, dfs])\n",
    "        \n",
    "    return echos, sensors\n",
    "\n",
    "def sensor_for_log_match(df_sensors):\n",
    "    df_sensors.dataid = pd.to_datetime(df_sensors.dataid, format='%Y-%m-%d %H:%M:%S')\n",
    "    df_sensors = df_sensors.groupby(pd.Grouper(key=\"dataid\", freq=\"30T\")).median()\n",
    "    df_sensors = df_sensors.reset_index()\n",
    "    df_sensors['date'] = df_sensors['dataid'].dt.date\n",
    "    df_sensors.to_csv('sensors_log_match.csv', index = False)\n",
    "    return df_sensors"
   ]
  },
  {
   "cell_type": "code",
   "execution_count": null,
   "id": "20bb699e-f8a0-4428-b9ae-67b1f74915aa",
   "metadata": {},
   "outputs": [],
   "source": [
    "echo, sensor = load_files(['leg2_echo_prepped.csv', 'leg3_echo_prepped.csv','leg4_echo_prepped.csv'],\n",
    "           ['leg2_prepped.csv', 'leg3_prepped.csv','leg4_prepped.csv'])\n",
    "\n",
    "sensor_for_log_match(sensor)"
   ]
  },
  {
   "cell_type": "code",
   "execution_count": null,
   "id": "3a997606-c7d0-45ae-826c-351a3b4ff3c0",
   "metadata": {},
   "outputs": [],
   "source": [
    "def combine_files(df_echo, df_sensors):\n",
    "    # datetime type is converted as object when saved to csv, convert back to datetime after reading\n",
    "    df_echo.dataid = pd.to_datetime(df_echo.dataid, format='%Y-%m-%d %H:%M:%S')\n",
    "    df_sensors.dataid = pd.to_datetime(df_sensors.dataid, format='%Y-%m-%d %H:%M:%S')\n",
    "    \n",
    "    # fix outliers due to freshwater rinsing of the ferrybox system every night\n",
    "    # avg salinity in atlantic is 33-37 ppm, median in dataset is 35.179. Replace all values below 30 (outliers) with median\n",
    "    salinity_median = df_sensors['FerryBox.SBE45_Salinity'].median()\n",
    "    df_sensors['FerryBox.SBE45_Salinity'] = np.where(df_sensors['FerryBox.SBE45_Salinity']<=30 , salinity_median, df_sensors['FerryBox.SBE45_Salinity'])\n",
    "\n",
    "    conduc_median = df_sensors['FerryBox.SBE45_Conductivity'].median()\n",
    "    df_sensors['FerryBox.SBE45_Conductivity'] = np.where(df_sensors['FerryBox.SBE45_Conductivity']<=3 , conduc_median, df_sensors['FerryBox.SBE45_Conductivity'])\n",
    "    \n",
    "    # replace NaNs with median \n",
    "    df_sensors = df_sensors.fillna(df_sensors.median())\n",
    "    \n",
    "    # group in intervals of 30 min\n",
    "    df_sensors = df_sensors.groupby(pd.Grouper(key=\"dataid\", freq=\"30T\")).median()\n",
    "    df_sensors = df_sensors.reset_index()\n",
    "\n",
    "    # join sensor and echo dataframes\n",
    "    final_df = df_echo.merge(df_sensors, on='dataid', how='outer')\n",
    "    \n",
    "   \n",
    "    # Split datetime to date and time separately\n",
    "    # Date to integer YYYYMMDD\n",
    "    final_df['date'] = final_df['dataid'].dt.date\n",
    "    final_df['day']=final_df['dataid'].dt.date.apply(lambda x: int(x.strftime(\"%d\")))\n",
    "    final_df['month']=final_df['dataid'].dt.date.apply(lambda x: int(x.strftime(\"%m\")))\n",
    "    \n",
    "\n",
    "    # Time to float, e.g 07:30 == 7.5 and 21:00 == 21\n",
    "    final_df['time'] = final_df['dataid'].dt.time\n",
    "    final_df['time']=final_df['time'].apply(lambda x: x.hour + x.minute/60)\n",
    "    final_df['time']=final_df['time'].astype('float')\n",
    "\n",
    "    # Maybe drop original dataid? For now to numeric\n",
    "    #final_df.dataid = pd.to_numeric(final_df.dataid)\n",
    "    final_df = final_df.drop(columns=['dataid'])\n",
    "    \n",
    "    # Remove any row with atleast one NaN value\n",
    "    # final_df = final_df.dropna()\n",
    "\n",
    "    return final_df\n"
   ]
  },
  {
   "cell_type": "code",
   "execution_count": null,
   "id": "f7fc015d-8702-42d0-af67-db67bcf895ff",
   "metadata": {},
   "outputs": [],
   "source": [
    "final_df = combine_files(echo, sensor)"
   ]
  },
  {
   "cell_type": "code",
   "execution_count": null,
   "id": "f949ba3e-c9ed-4ced-b2dc-7bf5b47861a2",
   "metadata": {},
   "outputs": [],
   "source": [
    "final_df"
   ]
  },
  {
   "cell_type": "code",
   "execution_count": null,
   "id": "24f9353a-8bf7-4019-ba1a-db3341321f84",
   "metadata": {},
   "outputs": [],
   "source": [
    "import seaborn as sn\n",
    "import matplotlib.pyplot as plt\n",
    "\n",
    "corrMatrix = final_df.corr()\n",
    "plt.figure(figsize=(30, 20))\n",
    "heatmap = sn.heatmap(corrMatrix, vmin=-1, vmax=1, annot=True, cmap='BrBG')\n",
    "heatmap.set_title('Correlation Heatmap Sensors', fontdict={'fontsize':18}, pad=12);\n",
    "plt.show()\n",
    "\n",
    "figure = heatmap.get_figure()   \n",
    "figure.savefig('corr.jpg', dpi=300, bbox_inches='tight')"
   ]
  },
  {
   "cell_type": "code",
   "execution_count": null,
   "id": "f0de16ce-8029-42b5-8a12-3a2b1b7df72c",
   "metadata": {},
   "outputs": [],
   "source": [
    "final_df"
   ]
  },
  {
   "cell_type": "code",
   "execution_count": null,
   "id": "d7d4aa53-ed36-4efa-b891-2f2081ae8619",
   "metadata": {},
   "outputs": [],
   "source": [
    "final_df.to_csv('leg234_data.csv', index = False)"
   ]
  }
 ],
 "metadata": {
  "kernelspec": {
   "display_name": "Python 3",
   "language": "python",
   "name": "python3"
  },
  "language_info": {
   "codemirror_mode": {
    "name": "ipython",
    "version": 3
   },
   "file_extension": ".py",
   "mimetype": "text/x-python",
   "name": "python",
   "nbconvert_exporter": "python",
   "pygments_lexer": "ipython3",
   "version": "3.8.8"
  }
 },
 "nbformat": 4,
 "nbformat_minor": 5
}
