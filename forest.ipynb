{
 "cells": [
  {
   "cell_type": "code",
   "execution_count": 1,
   "id": "e25cb959-be36-4faf-b51e-0f7679d0f5ce",
   "metadata": {},
   "outputs": [],
   "source": [
    "import pandas as pd\n",
    "import geopandas as gpd\n",
    "import plotly.express as px\n",
    "from sklearn.ensemble import RandomForestRegressor\n",
    "from sklearn.model_selection import train_test_split\n",
    "import time\n",
    "from sklearn.metrics import mean_absolute_error, r2_score\n",
    "import numpy as np\n",
    "from sklearn import preprocessing\n",
    "from matplotlib import pyplot as plt\n",
    "import PyCO2SYS as pyco2"
   ]
  },
  {
   "cell_type": "code",
   "execution_count": 43,
   "id": "ec692dd4-4678-4ea2-bd10-5c43fb95f445",
   "metadata": {},
   "outputs": [],
   "source": [
    "df = pd.read_csv('full.csv')"
   ]
  },
  {
   "cell_type": "code",
   "execution_count": 3,
   "id": "62265e7c-f6c7-44a7-a213-e009a38af205",
   "metadata": {},
   "outputs": [],
   "source": [
    "def hist(df):\n",
    "    plt.hist(df['TOTAL'], 20)\n",
    "    plt.title('Distribution of estimated biomass')\n",
    "    plt.xlabel('Estimated biomass')\n",
    "    plt.ylabel('Entries')"
   ]
  },
  {
   "cell_type": "code",
   "execution_count": 4,
   "id": "ff316457-a901-4e52-8949-c801504844f4",
   "metadata": {},
   "outputs": [],
   "source": [
    "def split_data(df):\n",
    "    y = df.iloc[:, df.columns == 'TOTAL']\n",
    "    X = df.iloc[:, df.columns != 'TOTAL']\n",
    "\n",
    "    X_train, X_test, y_train, y_test = train_test_split(X, y, test_size = 0.2, random_state=123)\n",
    "\n",
    "    X_test, X_val, y_test, y_val = train_test_split(X_test, y_test, \n",
    "        test_size=0.5, random_state=123) \n",
    "    \n",
    "\n",
    "    return X_train, X_val, y_train, y_val, X_test, y_test\n",
    "\n",
    "def fit_forest(X_train, y_train):\n",
    "    forest = RandomForestRegressor(random_state=0)\n",
    "    forest.fit(X_train, y_train.values.ravel())\n",
    "    return forest"
   ]
  },
  {
   "cell_type": "code",
   "execution_count": 5,
   "id": "88c22b6b-433c-414b-8489-e32c8571127e",
   "metadata": {},
   "outputs": [],
   "source": [
    "def smape(A, F):\n",
    "    return 1/len(A) * np.sum(2 * np.abs(F - A) / (np.abs(A) + np.abs(F)))\n",
    "\n",
    "def predict_and_score(X_val, y_val, forest):\n",
    "    forest_pred = forest.predict(X_val)\n",
    "    print('MAE score: ', mean_absolute_error(y_val, forest_pred))\n",
    "    print('R2 score: ', r2_score(y_val, forest_pred))\n",
    "    print('Smape score: ', smape(y_val, forest_pred.reshape(len(X_val),1)))\n",
    "    return forest_pred"
   ]
  },
  {
   "cell_type": "markdown",
   "id": "17bdc78b-95f5-4575-926a-d031abee5de2",
   "metadata": {},
   "source": [
    "## Functions for preprocessing\n",
    "### Replacing values with median for measures taken under freshwater rinses\n",
    "### Calculating Dissolved Inorganic Carbon"
   ]
  },
  {
   "cell_type": "code",
   "execution_count": null,
   "id": "a03bb908-c2e5-429d-b47a-24d4e4f13a03",
   "metadata": {},
   "outputs": [],
   "source": [
    "# Replace values recorded during freshwater rinses with median\n",
    "def replace_freshwater(df):\n",
    "    df = df.reset_index(drop=True)\n",
    "\n",
    "    # Get indices where salinity < 30\n",
    "    result = np.where(df['FerryBox.SBE45_Salinity']<=30)\n",
    "    idxs = result[0]\n",
    "    \n",
    "    # Ferrybox sensors that would be affected by the rinse\n",
    "    sensors = ['FerryBox.C3_CDOMFluorescence', 'FerryBox.C3_Temperature', 'FerryBox.C3_CHLAFluorescence',\n",
    "               'FerryBox.C3_Turbidity','FerryBox.Optode_Saturation', 'FerryBox.SBE45_Salinity']\n",
    "\n",
    "    # Replace with median for column\n",
    "    for s in sensors:   \n",
    "        df.loc[idxs, s] = df[s].median()\n",
    "    \n",
    "    # Fill missing values with median for column\n",
    "    df = df.fillna(df.median())\n",
    "    \n",
    "    return df\n",
    "\n",
    "def prep_dataset(df):\n",
    "    df1 = replace_freshwater(df)\n",
    "    df2 = get_dic(df1)\n",
    "    df2 = df2.drop(columns=['FCO2'])\n",
    "    return df2\n",
    "   \n",
    "def get_dic(df):\n",
    "    for index, row in df.iterrows():\n",
    "        alk = calc_alk(row['LATITUDE'], row['FerryBox.C3_Temperature'],row['FerryBox.SBE45_Salinity'])\n",
    "        dic = calc_dic(alk, row['FCO2'])      \n",
    "        df.at[index,'DIC'] = dic\n",
    "    return df\n",
    "\n",
    "def calc_alk(LAT, SST, SSS):\n",
    "    if LAT < 30:\n",
    "        return (2305 + 58.66*(SSS - 35) + 2.32*(SSS - 35)*2 - 1.41*(SST - 20) + 0.040*(SST - 20)*2)\n",
    "    else:\n",
    "        return (2305 + 53.97*(SSS - 35) + 2.74*(SSS - 35)*2 - 1.16*(SST - 20) - 0.040*(SST - 20)*2)     \n",
    "\n",
    "def calc_dic(fco2, alk):\n",
    "    result = pyco2.sys(par1=fco2, par2=alk, par1_type=5, par2_type=1)\n",
    "    return result[\"dic\"]"
   ]
  },
  {
   "cell_type": "markdown",
   "id": "60915444-073e-42ef-adce-6be58b6d4fb9",
   "metadata": {},
   "source": [
    "### Random search hyperparameter for Random Forest"
   ]
  },
  {
   "cell_type": "code",
   "execution_count": 6,
   "id": "573e18f1-1ca1-4016-81f6-76adaebe1937",
   "metadata": {},
   "outputs": [],
   "source": [
    "from sklearn.model_selection import RandomizedSearchCV\n",
    "\n",
    "def random_search_rf(X_train, y_train):\n",
    "    # Number of trees in random forest\n",
    "    n_estimators = [10, 50, 100, 200, 300, 500]\n",
    "    # Number of features to consider at every split\n",
    "    max_features = ['auto', 'sqrt']\n",
    "    # Maximum number of levels in tree\n",
    "    max_depth = [int(x) for x in np.linspace(10, 110, num = 11)]\n",
    "    max_depth.append(None)\n",
    "    # Minimum number of samples required to split a node\n",
    "    min_samples_split = [2, 5, 10]\n",
    "    # Minimum number of samples required at each leaf node\n",
    "    min_samples_leaf = [1, 2, 4]\n",
    "    # Method of selecting samples for training each tree\n",
    "    bootstrap = [True, False]\n",
    "    # Create the random grid\n",
    "    random_grid = {'n_estimators': n_estimators,\n",
    "                   'max_features': max_features,\n",
    "                   'max_depth': max_depth,\n",
    "                   'min_samples_split': min_samples_split,\n",
    "                   'min_samples_leaf': min_samples_leaf,\n",
    "                   'bootstrap': bootstrap}\n",
    "    print(random_grid)\n",
    "    {'bootstrap': [True, False],\n",
    "     'max_depth': [10, 20, 30, 40, 50, 60, 70, 80, 90, 100, None],\n",
    "     'max_features': ['auto', 'sqrt'],\n",
    "     'min_samples_leaf': [1, 2, 4],\n",
    "     'min_samples_split': [2, 5, 10],\n",
    "     'n_estimators': [10, 50, 100, 200, 300, 500]}\n",
    "    \n",
    "    # Use the random grid to search for best hyperparameters\n",
    "    # First create the base model to tune\n",
    "    rf = RandomForestRegressor()\n",
    "    # Random search of parameters, using 3 fold cross validation, \n",
    "    # search across 100 different combinations, and use all available cores\n",
    "    rf_random = RandomizedSearchCV(estimator = rf, param_distributions = random_grid, n_iter = 100, cv = 3, verbose=2, random_state=42, n_jobs = -1)\n",
    "    # Fit the random search model\n",
    "    rf_random.fit(X_train, y_train.values.ravel())\n",
    "    \n",
    "    return rf_random"
   ]
  },
  {
   "cell_type": "code",
   "execution_count": null,
   "id": "5552d7e8-412c-4b76-9d6e-ecb58ee799ed",
   "metadata": {},
   "outputs": [],
   "source": [
    "rf_random = random_search_rf(X_train, y_train)"
   ]
  },
  {
   "cell_type": "code",
   "execution_count": null,
   "id": "7ed33f81-551e-4d40-a678-dc98d7236fe6",
   "metadata": {},
   "outputs": [],
   "source": [
    "rf_random.best_params_"
   ]
  },
  {
   "cell_type": "code",
   "execution_count": null,
   "id": "53ad86b2-fcae-4cb9-8ae9-e9aff59284b8",
   "metadata": {},
   "outputs": [],
   "source": [
    "best_random = rf_random.best_estimator_\n",
    "predict_and_score(X_test, y_test, best_random)"
   ]
  },
  {
   "cell_type": "markdown",
   "id": "c4a5ceb3-7241-401f-81f1-8c9142ed0afd",
   "metadata": {},
   "source": [
    "# Creating different datasets\n"
   ]
  },
  {
   "cell_type": "code",
   "execution_count": 40,
   "id": "2ff008d8-09d3-4e65-8d59-8d3b84e17a7d",
   "metadata": {},
   "outputs": [],
   "source": [
    "# Filter original dataframe. Return dataframe where lat / long is higher than given\n",
    "def df_by_position(df, min_lat = None, max_lat = None, min_long = None, max_long = None):\n",
    "    df = df.copy()\n",
    "    if min_lat:\n",
    "        df = df.loc[df['LATITUDE'] >= min_lat] \n",
    "    if min_long: \n",
    "        df = df.loc[df['LONGITUD'] >= min_long] \n",
    "    if max_lat:\n",
    "        df = df.loc[df['LATITUDE'] <= max_lat] \n",
    "    if max_long:\n",
    "        df = df.loc[df['LONGITUD'] <= max_long] \n",
    "\n",
    "    #df = prep_dataset(df)\n",
    "    return df\n",
    "\n",
    "# Return df with max depth given\n",
    "def df_max_depth(df, max_depth = None):\n",
    "    if max_depth:\n",
    "        df = df[df['PDMEAN'] <= max_depth] \n",
    "    return df\n",
    "\n",
    "# Return df with only specific depth in water column, e.g 230 meters\n",
    "def df_specific_depth(df, depth):\n",
    "    df = df[df['PDMEAN'] == depth] \n",
    "    df = df[['LATITUDE','LONGITUD','PDMEAN', 'TOTAL']]\n",
    "    return df\n",
    "\n"
   ]
  },
  {
   "cell_type": "code",
   "execution_count": 45,
   "id": "8e77e186-ddf2-43b2-8a52-5aa5f528cd60",
   "metadata": {},
   "outputs": [],
   "source": [
    "# Geographical area\n",
    "mid_atlantic = pd.read_csv('mid_atl.csv')\n",
    "carib = pd.read_csv('carib.csv')\n",
    "south = df_by_position(df, max_lat=1)\n",
    "\n",
    "# Max depth\n",
    "fifty = df_max_depth(df, 50)\n",
    "twohundred = df_max_depth(df, 200)\n",
    "\n",
    "# Area and depth\n",
    "carib_200 = df_max_depth(carib.copy(), 200)\n",
    "mid_atlantic_200 = df_max_depth(mid_atlantic.copy(), 200)\n",
    "south_200 = df_max_depth(south.copy(), 200)\n",
    "\n",
    "carib_50 = df_max_depth(carib.copy(), 50)\n",
    "mid_atlantic_50 = df_max_depth(mid_atlantic.copy(), 50)\n",
    "south_50 = df_max_depth(south.copy(), 50)\n",
    "\n",
    "\n",
    "# Specific depth for map plot\n",
    "depth = df_specific_depth(df, 545)"
   ]
  },
  {
   "cell_type": "markdown",
   "id": "d18b9e62-251e-484a-97da-139c2e19bc04",
   "metadata": {},
   "source": [
    "## Prediction and evaluation"
   ]
  },
  {
   "cell_type": "code",
   "execution_count": 64,
   "id": "4f1452b3-bcc6-4718-acbb-d728045c7d30",
   "metadata": {},
   "outputs": [],
   "source": [
    "X_train, X_val, y_train, y_val, X_test, y_test = split_data(carib_200)\n",
    "forest = fit_forest(X_train, y_train)"
   ]
  },
  {
   "cell_type": "code",
   "execution_count": 65,
   "id": "cfbfa4ad-6243-41bc-a70b-a8886c8f7010",
   "metadata": {},
   "outputs": [
    {
     "name": "stdout",
     "output_type": "stream",
     "text": [
      "MAE score:  14.614393119219653\n",
      "R2 score:  0.7743327689992783\n",
      "Smape score:  TOTAL    0.247914\n",
      "dtype: float64\n"
     ]
    },
    {
     "data": {
      "text/plain": [
       "array([ 8.201453,  0.      ,  5.977345, ...,  2.718706, 51.292522,\n",
       "       12.986783])"
      ]
     },
     "execution_count": 65,
     "metadata": {},
     "output_type": "execute_result"
    }
   ],
   "source": [
    "predict_and_score(X_val, y_val, forest)"
   ]
  },
  {
   "cell_type": "code",
   "execution_count": 66,
   "id": "7ee4dfff-1079-46e1-a15c-b86bee425de7",
   "metadata": {},
   "outputs": [
    {
     "name": "stdout",
     "output_type": "stream",
     "text": [
      "Elapsed time to compute the importances: 7.805 seconds\n",
      "Feature: LATITUDE, Score: 0.50499\n",
      "Feature: LONGITUD, Score: 0.21344\n",
      "Feature: PDMEAN, Score: 1.12548\n",
      "Feature: sf_depth, Score: 0.08100\n",
      "Feature: NMEA.Trykk, Score: 0.00039\n",
      "Feature: FerryBox.SBE45_Salinity, Score: -0.00251\n",
      "Feature: FerryBox.Optode_Saturation, Score: 0.00347\n",
      "Feature: FerryBox.C3_Turbidity, Score: -0.00030\n",
      "Feature: FerryBox.C3_CHLAFluorescence, Score: -0.00020\n",
      "Feature: FerryBox.C3_Temperature, Score: 0.00899\n",
      "Feature: FerryBox.C3_CDOMFluorescence, Score: 0.00197\n",
      "Feature: day, Score: 0.00534\n",
      "Feature: month, Score: 0.00000\n",
      "Feature: time, Score: 0.61640\n",
      "Feature: DIC, Score: 0.03465\n"
     ]
    }
   ],
   "source": [
    "from sklearn.inspection import permutation_importance\n",
    "\n",
    "start_time = time.time()\n",
    "result = permutation_importance(\n",
    "    forest, X_val, y_val, n_repeats=10, n_jobs=2\n",
    ")\n",
    "elapsed_time = time.time() - start_time\n",
    "print(f\"Elapsed time to compute the importances: {elapsed_time:.3f} seconds\")\n",
    "\n",
    "forest_importances = pd.Series(result.importances_mean, index=X_train.columns)\n",
    "\n",
    "importance = result.importances_mean\n",
    "# summarize feature importance\n",
    "for i,v in enumerate(importance):\n",
    "\tprint(f'Feature: %s, Score: %.5f' % (X_train.columns[i],v))"
   ]
  },
  {
   "cell_type": "code",
   "execution_count": 21,
   "id": "4ed855de-ddd6-4d72-9ca2-769944bc6d1f",
   "metadata": {},
   "outputs": [
    {
     "data": {
      "image/png": "[encoded data removed]",
      "text/plain": [
       "<Figure size 432x288 with 1 Axes>"
      ]
     },
     "metadata": {
      "needs_background": "light"
     },
     "output_type": "display_data"
    }
   ],
   "source": [
    "fig, ax = plt.subplots()\n",
    "forest_importances.plot.bar(yerr=result.importances_std, ax=ax)\n",
    "ax.set_title(\"Feature importances using permutation\")\n",
    "ax.set_ylabel(\"Mean accuracy decrease\")\n",
    "fig.tight_layout()\n",
    "plt.show()"
   ]
  },
  {
   "cell_type": "markdown",
   "id": "80bd2600-5ed5-423b-b29c-8bdbecbb5a7e",
   "metadata": {},
   "source": [
    "## Plotting"
   ]
  },
  {
   "cell_type": "code",
   "execution_count": null,
   "id": "7a1f6098-6b41-4468-9760-6fc8a3a83614",
   "metadata": {},
   "outputs": [],
   "source": [
    "# Plot test set \n",
    "pred = predict_and_score(X_test, y_test, forest)\n"
   ]
  },
  {
   "cell_type": "code",
   "execution_count": null,
   "id": "84424e0e-e423-4f26-817e-75139a088e84",
   "metadata": {},
   "outputs": [],
   "source": [
    "x = range(len(y_test))\n",
    "plt.scatter(x, y_test, c='g', label='Actual biomass')\n",
    "plt.scatter(x, pred, c='orange', label='Predicted biomass')\n",
    "plt.title('Estimated vs predicted biomass')\n",
    "plt.xlabel('Sample number')\n",
    "plt.ylabel('Biomass, sA (m\\u00b2/nmi\\u00b2)') \n",
    "plt.legend(loc=\"lower left\")\n",
    "plt.show()"
   ]
  },
  {
   "cell_type": "code",
   "execution_count": null,
   "id": "56b37a67-a858-4af3-b369-8086ce2887f3",
   "metadata": {},
   "outputs": [],
   "source": [
    "df3 = y_test[22500 : 23000]\n",
    "pred3 = pred[22500 : 23000]\n",
    "plt.scatter(df3, pred3)\n",
    "plt.title('Estimated vs predicted biomass')\n",
    "plt.xlabel('Actual sA (m\\u00b2/nmi\\u00b2)')\n",
    "plt.ylabel('Predicted sA (m\\u00b2/nmi\\u00b2)') \n",
    "plt.show()"
   ]
  },
  {
   "cell_type": "code",
   "execution_count": null,
   "id": "f623015e-4415-4b6e-8dda-4c94c1bac764",
   "metadata": {},
   "outputs": [],
   "source": [
    "def map_plot(depth):\n",
    "    depth = gpd.GeoDataFrame(\n",
    "        depth, geometry=gpd.points_from_xy(depth.LATITUDE, depth.LONGITUD))\n",
    "\n",
    "    depth.reset_index(level=0, inplace=True)\n",
    "    \n",
    "    fig = px.scatter_geo(depth,\n",
    "                    lat=depth.geometry.x,\n",
    "                    lon=depth.geometry.y,\n",
    "                    color=\"TOTAL\",\n",
    "                    size='TOTAL',\n",
    "                    hover_data=['TOTAL'])\n",
    "    fig.update_geos(\n",
    "        center=dict(lon=-30, lat=10),\n",
    "        lataxis_range=[-30,30], lonaxis_range=[-100, 50]\n",
    "    )\n",
    "    fig.update_layout(title = 'Biomass (sA) at 545 meters depth', title_x=0.5, height=500,\n",
    "                     )\n",
    "    fig.show()"
   ]
  }
 ],
 "metadata": {
  "kernelspec": {
   "display_name": "Python 3",
   "language": "python",
   "name": "python3"
  },
  "language_info": {
   "codemirror_mode": {
    "name": "ipython",
    "version": 3
   },
   "file_extension": ".py",
   "mimetype": "text/x-python",
   "name": "python",
   "nbconvert_exporter": "python",
   "pygments_lexer": "ipython3",
   "version": "3.8.8"
  }
 },
 "nbformat": 4,
 "nbformat_minor": 5
}
