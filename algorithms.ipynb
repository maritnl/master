{
 "cells": [
  {
   "cell_type": "code",
   "execution_count": 2,
   "id": "c15f7f13-5c05-4e7c-bc7a-fcaf92730d14",
   "metadata": {},
   "outputs": [],
   "source": [
    "from sklearn.datasets import make_regression\n",
    "from sklearn.tree import DecisionTreeRegressor\n",
    "from sklearn.ensemble import RandomForestRegressor\n",
    "from sklearn.model_selection import train_test_split\n",
    "from matplotlib import pyplot as plt\n",
    "import pandas as pd\n",
    "import numpy as np\n",
    "import time\n",
    "import seaborn as sns\n",
    "from sklearn.preprocessing import scale \n",
    "from sklearn import preprocessing\n",
    "from sklearn import model_selection\n",
    "from sklearn.model_selection import RepeatedKFold\n",
    "from sklearn.model_selection import train_test_split\n",
    "from sklearn.cross_decomposition import PLSRegression\n",
    "from sklearn.metrics import mean_absolute_error, r2_score\n",
    "import sklearn"
   ]
  },
  {
   "cell_type": "code",
   "execution_count": 3,
   "id": "cdcc5fd5-5070-4a3e-b02f-dbc015273597",
   "metadata": {},
   "outputs": [],
   "source": [
    "df = pd.read_csv('full.csv')"
   ]
  },
  {
   "cell_type": "code",
   "execution_count": 5,
   "id": "fcc8a61c-8bbe-40a7-a8e8-b7cc55cf68ac",
   "metadata": {},
   "outputs": [],
   "source": [
    "def scale_df(df):\n",
    "    df = df.astype(float)\n",
    "    names = df.columns\n",
    "    # Create the Scaler object\n",
    "    scaler = preprocessing.StandardScaler()\n",
    "    # Fit your data on the scaler object\n",
    "    scaled_df = scaler.fit_transform(df)\n",
    "    df = pd.DataFrame(scaled_df, columns=names)\n",
    "    \n",
    "    return df"
   ]
  },
  {
   "cell_type": "code",
   "execution_count": 4,
   "id": "d959300f-fef4-4a29-adfb-131d33ac7a93",
   "metadata": {},
   "outputs": [],
   "source": [
    "def split_data(df):\n",
    "    y = df.iloc[:, df.columns == 'TOTAL']\n",
    "    X = df.iloc[:, df.columns != 'TOTAL']\n",
    "\n",
    "    X_train, X_test, y_train, y_test = train_test_split(X, y, test_size=0.2,random_state=123)\n",
    "\n",
    "    X_test, X_val, y_test, y_val = train_test_split(X_test, y_test, \n",
    "        test_size=0.5, random_state=123) \n",
    "    \n",
    "\n",
    "    return X_train, X_val, y_train, y_val\n",
    "\n",
    "def smape(A, F):\n",
    "    return 1/len(A) * np.sum(2 * np.abs(F - A) / (np.abs(A) + np.abs(F)))\n"
   ]
  },
  {
   "cell_type": "code",
   "execution_count": 7,
   "id": "43b76718-e60a-46a9-8f9d-a19ab595b54a",
   "metadata": {},
   "outputs": [],
   "source": [
    " X_train, X_val, y_train, y_val = split_data(df)"
   ]
  },
  {
   "cell_type": "markdown",
   "id": "03ac8d77-6496-493f-b210-8379e6d080eb",
   "metadata": {},
   "source": [
    "### Decision tree"
   ]
  },
  {
   "cell_type": "code",
   "execution_count": 8,
   "id": "88a4fa8c-dfcc-49b4-bd56-59fbb76ab0d7",
   "metadata": {},
   "outputs": [
    {
     "name": "stdout",
     "output_type": "stream",
     "text": [
      "Feature: LATITUDE, Score: 0.15194\n",
      "Feature: LONGITUD, Score: 0.10808\n",
      "Feature: PDMEAN, Score: 0.32761\n",
      "Feature: sf_depth, Score: 0.11042\n",
      "Feature: PCO2.H2O_mmm, Score: 0.00908\n",
      "Feature: PCO2.CO2_umm, Score: 0.01286\n",
      "Feature: NMEA.Humidity, Score: 0.02494\n",
      "Feature: NMEA.Trykk, Score: 0.03582\n",
      "Feature: FerryBox.SBE45_Salinity, Score: 0.01578\n",
      "Feature: FerryBox.Optode_Saturation, Score: 0.02887\n",
      "Feature: FerryBox.C3_Turbidity, Score: 0.05855\n",
      "Feature: FerryBox.C3_CHLAFluorescence, Score: 0.00482\n",
      "Feature: FerryBox.C3_Temperature, Score: 0.02482\n",
      "Feature: FerryBox.C3_CDOMFluorescence, Score: 0.00832\n",
      "Feature: day, Score: 0.01782\n",
      "Feature: month, Score: 0.00038\n",
      "Feature: time, Score: 0.05990\n"
     ]
    },
    {
     "data": {
      "image/png": "[encoded data removed]",
      "text/plain": [
       "<Figure size 432x288 with 1 Axes>"
      ]
     },
     "metadata": {
      "needs_background": "light"
     },
     "output_type": "display_data"
    }
   ],
   "source": [
    "# define the model\n",
    "model = DecisionTreeRegressor()\n",
    "# fit the model\n",
    "model.fit(X_train, y_train)\n",
    "# get importance\n",
    "importance = model.feature_importances_\n",
    "# summarize feature importance\n",
    "for i,v in enumerate(importance):\n",
    "\tprint(f'Feature: %s, Score: %.5f' % (X_train.columns[i],v))\n",
    "# plot feature importance\n",
    "#pyplot.bar([x for x in range(len(importance))], importance)\n",
    "importances = pd.Series(importance, index=X_train.columns)\n",
    "\n",
    "fig, ax = plt.subplots()\n",
    "importances.plot.bar([x for x in range(len(importance))], importance)\n",
    "ax.set_title(\"Feature importances DecisionTreeRegressor\")\n",
    "fig.tight_layout()\n",
    "plt.show()\n"
   ]
  },
  {
   "cell_type": "code",
   "execution_count": 9,
   "id": "fbe2c1cb-0d89-48f1-9aef-d913a5114075",
   "metadata": {},
   "outputs": [],
   "source": [
    "y_pred = model.predict(X_val)"
   ]
  },
  {
   "cell_type": "code",
   "execution_count": 10,
   "id": "a79f8999-6271-4cdf-841d-bc6614a53ecc",
   "metadata": {},
   "outputs": [
    {
     "name": "stdout",
     "output_type": "stream",
     "text": [
      "MAE score:  19.31581299352114\n",
      "R2 score:  0.5066267735876451\n",
      "Smape score:  TOTAL    0.33328\n",
      "dtype: float64\n"
     ]
    }
   ],
   "source": [
    "print('MAE score: ', mean_absolute_error(y_val, y_pred))\n",
    "print('R2 score: ', r2_score(y_val, y_pred))\n",
    "print('Smape score: ', smape(y_val, y_pred.reshape(len(X_val,1)))"
   ]
  },
  {
   "cell_type": "markdown",
   "id": "6c9389ae-4f1d-43cc-ab6c-3b94dc8c9a14",
   "metadata": {},
   "source": [
    "### Random Forest"
   ]
  },
  {
   "cell_type": "code",
   "execution_count": null,
   "id": "088f8319-3a97-418b-9a27-22e54d18415d",
   "metadata": {},
   "outputs": [],
   "source": [
    "forest = RandomForestRegressor(random_state=0)\n",
    "forest.fit(X_train, y_train.values.ravel())\n",
    "start_time = time.time()\n",
    "importances = forest.feature_importances_\n",
    "std = np.std([tree.feature_importances_ for tree in forest.estimators_], axis=0)\n",
    "elapsed_time = time.time() - start_time"
   ]
  },
  {
   "cell_type": "code",
   "execution_count": null,
   "id": "2568a654-55c2-43ff-ae54-89229632bf39",
   "metadata": {},
   "outputs": [],
   "source": [
    "forest_importances = pd.Series(importances, index=X_train.columns)\n",
    "\n",
    "fig, ax = plt.subplots()\n",
    "forest_importances.plot.bar(yerr=std, ax=ax)\n",
    "ax.set_title(\"Feature importances using MDI\")\n",
    "ax.set_ylabel(\"Mean decrease in impurity\")\n",
    "fig.tight_layout()"
   ]
  },
  {
   "cell_type": "code",
   "execution_count": null,
   "id": "eeb64c0f-140a-4db4-9502-c320c806647b",
   "metadata": {},
   "outputs": [],
   "source": [
    "forest_pred = forest.predict(X_val)"
   ]
  },
  {
   "cell_type": "code",
   "execution_count": null,
   "id": "589da8e0-9234-4e2c-b34e-47ed31c803df",
   "metadata": {},
   "outputs": [],
   "source": [
    "print('MAE score: ', mean_absolute_error(y_val, forest_pred))\n",
    "print('R2 score: ', r2_score(y_val, forest_pred))\n",
    "print('Smape score: ', smape(y_val, forest_pred.reshape(len(X_val,1)))"
   ]
  },
  {
   "cell_type": "code",
   "execution_count": null,
   "id": "590adeb0-0593-4d3b-898f-4fb52aba6368",
   "metadata": {},
   "outputs": [],
   "source": [
    "from sklearn.inspection import permutation_importance\n",
    "\n",
    "start_time = time.time()\n",
    "result = permutation_importance(\n",
    "    forest, X_val, y_val, n_repeats=10, n_jobs=2\n",
    ")\n",
    "elapsed_time = time.time() - start_time\n",
    "print(f\"Elapsed time to compute the importances: {elapsed_time:.3f} seconds\")\n",
    "\n",
    "forest_importances = pd.Series(result.importances_mean, index=X_train.columns)"
   ]
  },
  {
   "cell_type": "code",
   "execution_count": null,
   "id": "d35ea23e-42ae-48d3-9b83-aa41cd401533",
   "metadata": {},
   "outputs": [],
   "source": [
    "fig, ax = plt.subplots()\n",
    "forest_importances.plot.bar(yerr=result.importances_std, ax=ax)\n",
    "ax.set_title(\"Feature importances using permutation\")\n",
    "ax.set_ylabel(\"Mean accuracy decrease\")\n",
    "fig.tight_layout()\n",
    "plt.show()"
   ]
  },
  {
   "cell_type": "markdown",
   "id": "e3db7ca6-cc4e-41a1-b6ce-81c6350776dd",
   "metadata": {},
   "source": [
    "### Partial Least Squares "
   ]
  },
  {
   "cell_type": "code",
   "execution_count": null,
   "id": "4978d149-4ca8-4917-868d-a4f2dc9bd89a",
   "metadata": {},
   "outputs": [],
   "source": [
    "#define cross-validation method\n",
    "cv = RepeatedKFold(n_splits=10, n_repeats=3, random_state=1)\n",
    "\n",
    "mse = []\n",
    "n = len(X_train)\n",
    "\n",
    "# Calculate MAPE using cross-validation, adding one component at a time\n",
    "for i in np.arange(1, 18):\n",
    "    pls = PLSRegression(n_components=i)\n",
    "    score = -1*model_selection.cross_val_score(pls, X_train, y_train, cv=cv,\n",
    "               scoring='neg_mean_absolute_error').mean()\n",
    "    mse.append(score)\n",
    "\n",
    "#plot test MAPE vs. number of components\n",
    "plt.plot(mse)\n",
    "plt.xlabel('Number of PLS Components')\n",
    "plt.ylabel('MAE')\n",
    "plt.xlim((1,16))\n",
    "plt.title('Total')"
   ]
  },
  {
   "cell_type": "code",
   "execution_count": null,
   "id": "50ab49b6-5a68-489e-8018-e9129e51522b",
   "metadata": {},
   "outputs": [],
   "source": [
    "pls = PLSRegression(n_components=9)\n",
    "pls.fit(X_train, y_train)"
   ]
  },
  {
   "cell_type": "code",
   "execution_count": null,
   "id": "03b5a271-3b36-4282-a515-a157fa0a0fd0",
   "metadata": {},
   "outputs": [],
   "source": [
    "pls_pred = pls.predict(X_val)"
   ]
  },
  {
   "cell_type": "code",
   "execution_count": null,
   "id": "05b0d6de-4b68-4157-a4b9-72d47cf0c339",
   "metadata": {},
   "outputs": [],
   "source": [
    "print('MAE score: ', mean_absolute_error(y_val, pls_pred))\n",
    "print('R2 score: ', r2_score(y_val, pls_pred))\n",
    "print('Smape score: ', smape(y_val, pls_pred.reshape(len(X_val,1)))"
   ]
  }
 ],
 "metadata": {
  "kernelspec": {
   "display_name": "Python 3",
   "language": "python",
   "name": "python3"
  },
  "language_info": {
   "codemirror_mode": {
    "name": "ipython",
    "version": 3
   },
   "file_extension": ".py",
   "mimetype": "text/x-python",
   "name": "python",
   "nbconvert_exporter": "python",
   "pygments_lexer": "ipython3",
   "version": "3.8.8"
  }
 },
 "nbformat": 4,
 "nbformat_minor": 5
}
