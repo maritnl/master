{
 "cells": [
  {
   "cell_type": "code",
   "execution_count": 2,
   "id": "ffb8caee",
   "metadata": {},
   "outputs": [],
   "source": [
    "import requests\n",
    "import pandas as pd\n",
    "import json"
   ]
  },
  {
   "cell_type": "markdown",
   "id": "60878ad6",
   "metadata": {},
   "source": [
    "![Params](nmdc_api_params.png)\n",
    "\n",
    "GET\n",
    "/dataset/{startyear}/{cruiseid}/{platform}"
   ]
  },
  {
   "cell_type": "code",
   "execution_count": 3,
   "id": "9050bb05",
   "metadata": {},
   "outputs": [],
   "source": [
    "def fetch_sensordata(startyear, cruiseid, outname):\n",
    "    api_url = 'http://underway-api.hi.no/apis/nmdapi/underway/v1'\n",
    "    r = requests.get(f'{api_url}/dataset/{startyear}/{cruiseid}/9998', headers={\"accept\":\"application/json\"})\n",
    "    with open(f'{outname}.json', 'w', encoding='utf-8') as f:\n",
    "        json.dump(r.json(), f, ensure_ascii=False, indent=4)"
   ]
  },
  {
   "cell_type": "code",
   "execution_count": 5,
   "id": "97f9f149-d32b-4abd-b57d-af652dbdbcf8",
   "metadata": {},
   "outputs": [],
   "source": [
    "fetch_sensordata(2021, 2021053, 'leg3')"
   ]
  },
  {
   "cell_type": "code",
   "execution_count": 6,
   "id": "619ead39",
   "metadata": {},
   "outputs": [],
   "source": [
    "def prep_and_separate_sensorjson(path, leg):\n",
    "    f = open(path)\n",
    "\n",
    "    data = json.load(f)\n",
    "\n",
    "    sensors = data['sensor']\n",
    "    for sensor in sensors:\n",
    "        unit = sensor['unit']\n",
    "        metadata = sensor['custommetadata']\n",
    "        displayname = metadata[4]\n",
    "        name = displayname['customvalue']\n",
    "        data = sensor['timeseriesdata']\n",
    "\n",
    "        data = { 'unit' : unit, 'sensor' : name, 'data': data }\n",
    "        json.dumps(data)\n",
    "\n",
    "        with open(f'{leg}/{name}.json', 'w', encoding='utf-8') as f:\n",
    "            json.dump(data, f, ensure_ascii=False, indent=4)"
   ]
  },
  {
   "cell_type": "code",
   "execution_count": 8,
   "id": "48aa3d9f-b7fb-417f-b4d5-9cd65df5295f",
   "metadata": {},
   "outputs": [],
   "source": [
    "prep_and_separate_sensorjson('leg2.json', 'Leg2')"
   ]
  },
  {
   "cell_type": "markdown",
   "id": "66699b05",
   "metadata": {},
   "source": [
    "## Prepare dataframes"
   ]
  },
  {
   "cell_type": "code",
   "execution_count": 21,
   "id": "fe3945a7-f250-4129-9581-9113a4b2109b",
   "metadata": {},
   "outputs": [],
   "source": [
    "def prep_df(file, prefix):\n",
    "    f = open(file)\n",
    "    data = json.load(f)\n",
    "    name = data['sensor']\n",
    "    df = pd.json_normalize(data['data'])\n",
    "    df.dataid = pd.to_datetime(df.dataid, format='%Y-%m-%d %H:%M:%S')\n",
    "    df = df.set_index('dataid')\n",
    "    df = df.drop(columns=['sensortimestamp', 'geolocation'])\n",
    "    df = df.rename(columns={'sensorvalue':name.split(prefix)[1]})\n",
    "    \n",
    "    return df\n",
    "\n",
    "\n",
    "rel_sensors = ['FerryBox.C3_CDOMFluorescence.json', 'FerryBox.C3_Temperature.json', 'FerryBox.C3_CHLAFluorescence.json',\n",
    "               'FerryBox.C3_Turbidity.json','FerryBox.Optode_Saturation.json', 'FerryBox.SBE45_Salinity.json',\n",
    "               'NMEA.Trykk.json', 'NMEA.Humidity.json']\n",
    "\n",
    "append_str = 'BlueInsight_'\n",
    "blueinsight_sensors = [append_str + sub for sub in rel_sensors]\n",
    "\n",
    "def combine_sensordfs(sensors, leg, prefix):\n",
    "    prev_df = pd.DataFrame(columns=['dataid']) #empty dataframe with column dataid\n",
    "    for sensor in sensors:\n",
    "        df = prep_df(f'{leg}/{sensor}', prefix)\n",
    "        new_df = pd.merge(df,prev_df,on='dataid', how=\"outer\")\n",
    "        prev_df = new_df\n",
    "\n",
    "    return new_df\n",
    "    "
   ]
  },
  {
   "cell_type": "code",
   "execution_count": 27,
   "id": "6622f8cf-3bc2-47bb-9593-de956d97a511",
   "metadata": {},
   "outputs": [],
   "source": [
    "df = combine_sensordfs(blueinsight_sensors, 'Leg4', 'BlueInsight_')\n",
    "df.to_csv('leg4_prepped.csv', index = False)"
   ]
  }
 ],
 "metadata": {
  "kernelspec": {
   "display_name": "Python 3",
   "language": "python",
   "name": "python3"
  },
  "language_info": {
   "codemirror_mode": {
    "name": "ipython",
    "version": 3
   },
   "file_extension": ".py",
   "mimetype": "text/x-python",
   "name": "python",
   "nbconvert_exporter": "python",
   "pygments_lexer": "ipython3",
   "version": "3.8.8"
  }
 },
 "nbformat": 4,
 "nbformat_minor": 5
}
