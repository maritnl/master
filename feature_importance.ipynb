{
 "cells": [
  {
   "cell_type": "code",
   "execution_count": null,
   "id": "c15f7f13-5c05-4e7c-bc7a-fcaf92730d14",
   "metadata": {},
   "outputs": [],
   "source": [
    "from sklearn.datasets import make_regression\n",
    "from sklearn.tree import DecisionTreeRegressor\n",
    "from sklearn.ensemble import RandomForestRegressor\n",
    "from sklearn.model_selection import train_test_split\n",
    "from matplotlib import pyplot as plt\n",
    "import pandas as pd\n",
    "import numpy as np\n",
    "import time\n",
    "import seaborn as sns"
   ]
  },
  {
   "cell_type": "code",
   "execution_count": 335,
   "id": "cdcc5fd5-5070-4a3e-b02f-dbc015273597",
   "metadata": {},
   "outputs": [],
   "source": [
    "df = pd.read_csv('leg234_data.csv')\n",
    "df\n",
    "sub_df = df[['PDMEAN', 'LONGITUD', 'LATITUDE', 'time', 'FerryBox.C3_Turbidity', 'TOTAL']]"
   ]
  },
  {
   "cell_type": "code",
   "execution_count": 312,
   "id": "fcc8a61c-8bbe-40a7-a8e8-b7cc55cf68ac",
   "metadata": {},
   "outputs": [
    {
     "name": "stdout",
     "output_type": "stream",
     "text": [
      "LATITUDE                        float64\n",
      "LONGITUD                        float64\n",
      "PDMEAN                          float64\n",
      "TOTAL                           float64\n",
      "dataid                          float64\n",
      "NMEA.Wind_Speed                 float64\n",
      "NMEA.Wind_Angle                 float64\n",
      "NMEA.Wave_Height                float64\n",
      "PCO2.H2O_mmm                    float64\n",
      "PCO2.CO2_umm                    float64\n",
      "PCO2.atm_cond                   float64\n",
      "NMEA.Humidity                   float64\n",
      "NMEA.Trykk                      float64\n",
      "FerryBox.SBE45_Salinity         float64\n",
      "FerryBox.SBE45_Conductivity     float64\n",
      "FerryBox.Optode_Saturation      float64\n",
      "FerryBox.C3_Turbidity           float64\n",
      "FerryBox.C3_CHLAFluorescence    float64\n",
      "FerryBox.C3_Temperature         float64\n",
      "FerryBox.C3_CDOMFluorescence    float64\n",
      "date                            float64\n",
      "time                            float64\n",
      "dtype: object\n"
     ]
    }
   ],
   "source": [
    "df = df.astype(float)\n",
    "print(df.dtypes)\n",
    "names = df.columns\n",
    "# Create the Scaler object\n",
    "scaler = preprocessing.StandardScaler()\n",
    "# Fit your data on the scaler object\n",
    "scaled_df = scaler.fit_transform(df)\n",
    "df = pd.DataFrame(scaled_df, columns=names)"
   ]
  },
  {
   "cell_type": "code",
   "execution_count": 336,
   "id": "cc0128da-78b1-48a9-aaa4-fca6e42e0873",
   "metadata": {},
   "outputs": [
    {
     "name": "stdout",
     "output_type": "stream",
     "text": [
      "LATITUDE                        float64\n",
      "LONGITUD                        float64\n",
      "PDMEAN                          float64\n",
      "TOTAL                           float64\n",
      "dataid                          float64\n",
      "NMEA.Wind_Speed                 float64\n",
      "NMEA.Wind_Angle                 float64\n",
      "NMEA.Wave_Height                float64\n",
      "PCO2.H2O_mmm                    float64\n",
      "PCO2.CO2_umm                    float64\n",
      "PCO2.atm_cond                   float64\n",
      "NMEA.Humidity                   float64\n",
      "NMEA.Trykk                      float64\n",
      "FerryBox.SBE45_Salinity         float64\n",
      "FerryBox.SBE45_Conductivity     float64\n",
      "FerryBox.Optode_Saturation      float64\n",
      "FerryBox.C3_Turbidity           float64\n",
      "FerryBox.C3_CHLAFluorescence    float64\n",
      "FerryBox.C3_Temperature         float64\n",
      "FerryBox.C3_CDOMFluorescence    float64\n",
      "date                            float64\n",
      "time                            float64\n",
      "dtype: object\n"
     ]
    }
   ],
   "source": [
    "df = df.astype(float)\n",
    "print(df.dtypes)\n",
    "names = df.columns\n",
    "# Create the Scaler object\n",
    "scaler = preprocessing.Normalizer()\n",
    "# Fit your data on the scaler object\n",
    "scaled_df = scaler.fit_transform(df.T).T\n",
    "df = pd.DataFrame(scaled_df, columns=names)"
   ]
  },
  {
   "cell_type": "code",
   "execution_count": 337,
   "id": "f76af93a-a77e-42f3-bd61-f5bf59cd3250",
   "metadata": {},
   "outputs": [],
   "source": [
    "df = df.drop(columns=['NMEA.Wave_Height'])"
   ]
  },
  {
   "cell_type": "code",
   "execution_count": 338,
   "id": "e0d1b656-ba65-4c5b-8a00-78120d419f33",
   "metadata": {},
   "outputs": [],
   "source": [
    "y = df.iloc[:, df.columns == 'TOTAL']\n",
    "X = df.iloc[:, df.columns != 'TOTAL']\n"
   ]
  },
  {
   "cell_type": "code",
   "execution_count": 339,
   "id": "d959300f-fef4-4a29-adfb-131d33ac7a93",
   "metadata": {},
   "outputs": [],
   "source": [
    "X_train, X_test, y_train, y_test = train_test_split(X, y, random_state=42)"
   ]
  },
  {
   "cell_type": "code",
   "execution_count": 340,
   "id": "43b76718-e60a-46a9-8f9d-a19ab595b54a",
   "metadata": {},
   "outputs": [
    {
     "data": {
      "text/html": [
       "<div>\n",
       "<style scoped>\n",
       "    .dataframe tbody tr th:only-of-type {\n",
       "        vertical-align: middle;\n",
       "    }\n",
       "\n",
       "    .dataframe tbody tr th {\n",
       "        vertical-align: top;\n",
       "    }\n",
       "\n",
       "    .dataframe thead th {\n",
       "        text-align: right;\n",
       "    }\n",
       "</style>\n",
       "<table border=\"1\" class=\"dataframe\">\n",
       "  <thead>\n",
       "    <tr style=\"text-align: right;\">\n",
       "      <th></th>\n",
       "      <th>LATITUDE</th>\n",
       "      <th>LONGITUD</th>\n",
       "      <th>PDMEAN</th>\n",
       "      <th>dataid</th>\n",
       "      <th>NMEA.Wind_Speed</th>\n",
       "      <th>NMEA.Wind_Angle</th>\n",
       "      <th>PCO2.H2O_mmm</th>\n",
       "      <th>PCO2.CO2_umm</th>\n",
       "      <th>PCO2.atm_cond</th>\n",
       "      <th>NMEA.Humidity</th>\n",
       "      <th>NMEA.Trykk</th>\n",
       "      <th>FerryBox.SBE45_Salinity</th>\n",
       "      <th>FerryBox.SBE45_Conductivity</th>\n",
       "      <th>FerryBox.Optode_Saturation</th>\n",
       "      <th>FerryBox.C3_Turbidity</th>\n",
       "      <th>FerryBox.C3_CHLAFluorescence</th>\n",
       "      <th>FerryBox.C3_Temperature</th>\n",
       "      <th>FerryBox.C3_CDOMFluorescence</th>\n",
       "      <th>date</th>\n",
       "      <th>time</th>\n",
       "    </tr>\n",
       "  </thead>\n",
       "  <tbody>\n",
       "    <tr>\n",
       "      <th>51429</th>\n",
       "      <td>0.001862</td>\n",
       "      <td>-0.001241</td>\n",
       "      <td>0.003719</td>\n",
       "      <td>0.002130</td>\n",
       "      <td>0.002061</td>\n",
       "      <td>0.001463</td>\n",
       "      <td>0.001584</td>\n",
       "      <td>0.002126</td>\n",
       "      <td>0.002134</td>\n",
       "      <td>0.002177</td>\n",
       "      <td>0.002133</td>\n",
       "      <td>0.002085</td>\n",
       "      <td>0.002036</td>\n",
       "      <td>0.002110</td>\n",
       "      <td>0.000043</td>\n",
       "      <td>-0.002167</td>\n",
       "      <td>0.002164</td>\n",
       "      <td>-0.002048</td>\n",
       "      <td>0.002133</td>\n",
       "      <td>0.000401</td>\n",
       "    </tr>\n",
       "    <tr>\n",
       "      <th>106470</th>\n",
       "      <td>0.001324</td>\n",
       "      <td>-0.001838</td>\n",
       "      <td>0.002523</td>\n",
       "      <td>0.002130</td>\n",
       "      <td>0.001517</td>\n",
       "      <td>0.001593</td>\n",
       "      <td>0.001584</td>\n",
       "      <td>0.002126</td>\n",
       "      <td>0.002134</td>\n",
       "      <td>0.002025</td>\n",
       "      <td>0.002130</td>\n",
       "      <td>0.002143</td>\n",
       "      <td>0.002214</td>\n",
       "      <td>0.002164</td>\n",
       "      <td>0.000019</td>\n",
       "      <td>-0.002255</td>\n",
       "      <td>0.002192</td>\n",
       "      <td>-0.002594</td>\n",
       "      <td>0.002133</td>\n",
       "      <td>0.002243</td>\n",
       "    </tr>\n",
       "    <tr>\n",
       "      <th>164979</th>\n",
       "      <td>0.002913</td>\n",
       "      <td>-0.003645</td>\n",
       "      <td>0.001066</td>\n",
       "      <td>0.002136</td>\n",
       "      <td>0.001825</td>\n",
       "      <td>0.002057</td>\n",
       "      <td>0.001584</td>\n",
       "      <td>0.002126</td>\n",
       "      <td>0.002134</td>\n",
       "      <td>0.002085</td>\n",
       "      <td>0.002144</td>\n",
       "      <td>0.002085</td>\n",
       "      <td>0.002036</td>\n",
       "      <td>0.001935</td>\n",
       "      <td>0.015122</td>\n",
       "      <td>-0.001769</td>\n",
       "      <td>0.003278</td>\n",
       "      <td>-0.001911</td>\n",
       "      <td>0.002133</td>\n",
       "      <td>0.001442</td>\n",
       "    </tr>\n",
       "    <tr>\n",
       "      <th>204965</th>\n",
       "      <td>-0.000822</td>\n",
       "      <td>-0.001502</td>\n",
       "      <td>0.000650</td>\n",
       "      <td>0.002144</td>\n",
       "      <td>0.001821</td>\n",
       "      <td>0.003024</td>\n",
       "      <td>0.001584</td>\n",
       "      <td>0.002126</td>\n",
       "      <td>0.002134</td>\n",
       "      <td>0.002195</td>\n",
       "      <td>0.002125</td>\n",
       "      <td>0.002137</td>\n",
       "      <td>0.002223</td>\n",
       "      <td>0.002139</td>\n",
       "      <td>-0.000009</td>\n",
       "      <td>-0.002122</td>\n",
       "      <td>0.002216</td>\n",
       "      <td>-0.002048</td>\n",
       "      <td>0.002134</td>\n",
       "      <td>0.000401</td>\n",
       "    </tr>\n",
       "    <tr>\n",
       "      <th>217407</th>\n",
       "      <td>0.002444</td>\n",
       "      <td>-0.001809</td>\n",
       "      <td>0.002315</td>\n",
       "      <td>0.002145</td>\n",
       "      <td>0.001839</td>\n",
       "      <td>0.001486</td>\n",
       "      <td>0.001584</td>\n",
       "      <td>0.002126</td>\n",
       "      <td>0.002134</td>\n",
       "      <td>0.002489</td>\n",
       "      <td>0.002123</td>\n",
       "      <td>0.002156</td>\n",
       "      <td>0.002184</td>\n",
       "      <td>0.002113</td>\n",
       "      <td>-0.000008</td>\n",
       "      <td>-0.001769</td>\n",
       "      <td>0.002114</td>\n",
       "      <td>-0.001911</td>\n",
       "      <td>0.002134</td>\n",
       "      <td>0.003205</td>\n",
       "    </tr>\n",
       "    <tr>\n",
       "      <th>...</th>\n",
       "      <td>...</td>\n",
       "      <td>...</td>\n",
       "      <td>...</td>\n",
       "      <td>...</td>\n",
       "      <td>...</td>\n",
       "      <td>...</td>\n",
       "      <td>...</td>\n",
       "      <td>...</td>\n",
       "      <td>...</td>\n",
       "      <td>...</td>\n",
       "      <td>...</td>\n",
       "      <td>...</td>\n",
       "      <td>...</td>\n",
       "      <td>...</td>\n",
       "      <td>...</td>\n",
       "      <td>...</td>\n",
       "      <td>...</td>\n",
       "      <td>...</td>\n",
       "      <td>...</td>\n",
       "      <td>...</td>\n",
       "    </tr>\n",
       "    <tr>\n",
       "      <th>119879</th>\n",
       "      <td>0.001316</td>\n",
       "      <td>-0.001987</td>\n",
       "      <td>0.002315</td>\n",
       "      <td>0.002131</td>\n",
       "      <td>0.001375</td>\n",
       "      <td>0.001679</td>\n",
       "      <td>0.001404</td>\n",
       "      <td>0.002172</td>\n",
       "      <td>0.002134</td>\n",
       "      <td>0.002421</td>\n",
       "      <td>0.002127</td>\n",
       "      <td>0.002150</td>\n",
       "      <td>0.002219</td>\n",
       "      <td>0.002175</td>\n",
       "      <td>0.000020</td>\n",
       "      <td>-0.002255</td>\n",
       "      <td>0.002188</td>\n",
       "      <td>-0.003004</td>\n",
       "      <td>0.002133</td>\n",
       "      <td>0.000000</td>\n",
       "    </tr>\n",
       "    <tr>\n",
       "      <th>103694</th>\n",
       "      <td>0.001325</td>\n",
       "      <td>-0.001806</td>\n",
       "      <td>0.001118</td>\n",
       "      <td>0.002130</td>\n",
       "      <td>0.002203</td>\n",
       "      <td>0.001435</td>\n",
       "      <td>0.001584</td>\n",
       "      <td>0.002126</td>\n",
       "      <td>0.002134</td>\n",
       "      <td>0.002023</td>\n",
       "      <td>0.002130</td>\n",
       "      <td>0.002152</td>\n",
       "      <td>0.002215</td>\n",
       "      <td>0.002164</td>\n",
       "      <td>0.000019</td>\n",
       "      <td>-0.002255</td>\n",
       "      <td>0.002178</td>\n",
       "      <td>-0.002321</td>\n",
       "      <td>0.002133</td>\n",
       "      <td>0.001042</td>\n",
       "    </tr>\n",
       "    <tr>\n",
       "      <th>131932</th>\n",
       "      <td>0.001327</td>\n",
       "      <td>-0.002124</td>\n",
       "      <td>0.001430</td>\n",
       "      <td>0.002131</td>\n",
       "      <td>0.002440</td>\n",
       "      <td>0.001882</td>\n",
       "      <td>0.001584</td>\n",
       "      <td>0.002126</td>\n",
       "      <td>0.002134</td>\n",
       "      <td>0.002115</td>\n",
       "      <td>0.002131</td>\n",
       "      <td>0.002155</td>\n",
       "      <td>0.002212</td>\n",
       "      <td>0.002163</td>\n",
       "      <td>0.000021</td>\n",
       "      <td>-0.002255</td>\n",
       "      <td>0.002168</td>\n",
       "      <td>-0.002048</td>\n",
       "      <td>0.002133</td>\n",
       "      <td>0.000961</td>\n",
       "    </tr>\n",
       "    <tr>\n",
       "      <th>146867</th>\n",
       "      <td>0.001742</td>\n",
       "      <td>-0.003456</td>\n",
       "      <td>0.003251</td>\n",
       "      <td>0.002133</td>\n",
       "      <td>0.002906</td>\n",
       "      <td>0.001445</td>\n",
       "      <td>0.001584</td>\n",
       "      <td>0.002126</td>\n",
       "      <td>0.002134</td>\n",
       "      <td>0.002085</td>\n",
       "      <td>0.002128</td>\n",
       "      <td>0.002080</td>\n",
       "      <td>0.002161</td>\n",
       "      <td>0.002124</td>\n",
       "      <td>0.000025</td>\n",
       "      <td>-0.002255</td>\n",
       "      <td>0.002201</td>\n",
       "      <td>-0.001843</td>\n",
       "      <td>0.002133</td>\n",
       "      <td>0.001682</td>\n",
       "    </tr>\n",
       "    <tr>\n",
       "      <th>121958</th>\n",
       "      <td>0.001322</td>\n",
       "      <td>-0.002010</td>\n",
       "      <td>0.001847</td>\n",
       "      <td>0.002131</td>\n",
       "      <td>0.001515</td>\n",
       "      <td>0.002027</td>\n",
       "      <td>0.001368</td>\n",
       "      <td>0.002195</td>\n",
       "      <td>0.002134</td>\n",
       "      <td>0.002397</td>\n",
       "      <td>0.002131</td>\n",
       "      <td>0.002148</td>\n",
       "      <td>0.002215</td>\n",
       "      <td>0.002172</td>\n",
       "      <td>0.000021</td>\n",
       "      <td>-0.002255</td>\n",
       "      <td>0.002183</td>\n",
       "      <td>-0.001707</td>\n",
       "      <td>0.002133</td>\n",
       "      <td>0.000961</td>\n",
       "    </tr>\n",
       "  </tbody>\n",
       "</table>\n",
       "<p>164774 rows × 20 columns</p>\n",
       "</div>"
      ],
      "text/plain": [
       "        LATITUDE  LONGITUD    PDMEAN    dataid  NMEA.Wind_Speed  \\\n",
       "51429   0.001862 -0.001241  0.003719  0.002130         0.002061   \n",
       "106470  0.001324 -0.001838  0.002523  0.002130         0.001517   \n",
       "164979  0.002913 -0.003645  0.001066  0.002136         0.001825   \n",
       "204965 -0.000822 -0.001502  0.000650  0.002144         0.001821   \n",
       "217407  0.002444 -0.001809  0.002315  0.002145         0.001839   \n",
       "...          ...       ...       ...       ...              ...   \n",
       "119879  0.001316 -0.001987  0.002315  0.002131         0.001375   \n",
       "103694  0.001325 -0.001806  0.001118  0.002130         0.002203   \n",
       "131932  0.001327 -0.002124  0.001430  0.002131         0.002440   \n",
       "146867  0.001742 -0.003456  0.003251  0.002133         0.002906   \n",
       "121958  0.001322 -0.002010  0.001847  0.002131         0.001515   \n",
       "\n",
       "        NMEA.Wind_Angle  PCO2.H2O_mmm  PCO2.CO2_umm  PCO2.atm_cond  \\\n",
       "51429          0.001463      0.001584      0.002126       0.002134   \n",
       "106470         0.001593      0.001584      0.002126       0.002134   \n",
       "164979         0.002057      0.001584      0.002126       0.002134   \n",
       "204965         0.003024      0.001584      0.002126       0.002134   \n",
       "217407         0.001486      0.001584      0.002126       0.002134   \n",
       "...                 ...           ...           ...            ...   \n",
       "119879         0.001679      0.001404      0.002172       0.002134   \n",
       "103694         0.001435      0.001584      0.002126       0.002134   \n",
       "131932         0.001882      0.001584      0.002126       0.002134   \n",
       "146867         0.001445      0.001584      0.002126       0.002134   \n",
       "121958         0.002027      0.001368      0.002195       0.002134   \n",
       "\n",
       "        NMEA.Humidity  NMEA.Trykk  FerryBox.SBE45_Salinity  \\\n",
       "51429        0.002177    0.002133                 0.002085   \n",
       "106470       0.002025    0.002130                 0.002143   \n",
       "164979       0.002085    0.002144                 0.002085   \n",
       "204965       0.002195    0.002125                 0.002137   \n",
       "217407       0.002489    0.002123                 0.002156   \n",
       "...               ...         ...                      ...   \n",
       "119879       0.002421    0.002127                 0.002150   \n",
       "103694       0.002023    0.002130                 0.002152   \n",
       "131932       0.002115    0.002131                 0.002155   \n",
       "146867       0.002085    0.002128                 0.002080   \n",
       "121958       0.002397    0.002131                 0.002148   \n",
       "\n",
       "        FerryBox.SBE45_Conductivity  FerryBox.Optode_Saturation  \\\n",
       "51429                      0.002036                    0.002110   \n",
       "106470                     0.002214                    0.002164   \n",
       "164979                     0.002036                    0.001935   \n",
       "204965                     0.002223                    0.002139   \n",
       "217407                     0.002184                    0.002113   \n",
       "...                             ...                         ...   \n",
       "119879                     0.002219                    0.002175   \n",
       "103694                     0.002215                    0.002164   \n",
       "131932                     0.002212                    0.002163   \n",
       "146867                     0.002161                    0.002124   \n",
       "121958                     0.002215                    0.002172   \n",
       "\n",
       "        FerryBox.C3_Turbidity  FerryBox.C3_CHLAFluorescence  \\\n",
       "51429                0.000043                     -0.002167   \n",
       "106470               0.000019                     -0.002255   \n",
       "164979               0.015122                     -0.001769   \n",
       "204965              -0.000009                     -0.002122   \n",
       "217407              -0.000008                     -0.001769   \n",
       "...                       ...                           ...   \n",
       "119879               0.000020                     -0.002255   \n",
       "103694               0.000019                     -0.002255   \n",
       "131932               0.000021                     -0.002255   \n",
       "146867               0.000025                     -0.002255   \n",
       "121958               0.000021                     -0.002255   \n",
       "\n",
       "        FerryBox.C3_Temperature  FerryBox.C3_CDOMFluorescence      date  \\\n",
       "51429                  0.002164                     -0.002048  0.002133   \n",
       "106470                 0.002192                     -0.002594  0.002133   \n",
       "164979                 0.003278                     -0.001911  0.002133   \n",
       "204965                 0.002216                     -0.002048  0.002134   \n",
       "217407                 0.002114                     -0.001911  0.002134   \n",
       "...                         ...                           ...       ...   \n",
       "119879                 0.002188                     -0.003004  0.002133   \n",
       "103694                 0.002178                     -0.002321  0.002133   \n",
       "131932                 0.002168                     -0.002048  0.002133   \n",
       "146867                 0.002201                     -0.001843  0.002133   \n",
       "121958                 0.002183                     -0.001707  0.002133   \n",
       "\n",
       "            time  \n",
       "51429   0.000401  \n",
       "106470  0.002243  \n",
       "164979  0.001442  \n",
       "204965  0.000401  \n",
       "217407  0.003205  \n",
       "...          ...  \n",
       "119879  0.000000  \n",
       "103694  0.001042  \n",
       "131932  0.000961  \n",
       "146867  0.001682  \n",
       "121958  0.000961  \n",
       "\n",
       "[164774 rows x 20 columns]"
      ]
     },
     "execution_count": 340,
     "metadata": {},
     "output_type": "execute_result"
    }
   ],
   "source": [
    "X_train"
   ]
  },
  {
   "cell_type": "code",
   "execution_count": 341,
   "id": "88a4fa8c-dfcc-49b4-bd56-59fbb76ab0d7",
   "metadata": {},
   "outputs": [
    {
     "name": "stdout",
     "output_type": "stream",
     "text": [
      "Feature: LATITUDE, Score: 0.11183\n",
      "Feature: LONGITUD, Score: 0.15472\n",
      "Feature: PDMEAN, Score: 0.31421\n",
      "Feature: dataid, Score: 0.00798\n",
      "Feature: NMEA.Wind_Speed, Score: 0.05977\n",
      "Feature: NMEA.Wind_Angle, Score: 0.07608\n",
      "Feature: PCO2.H2O_mmm, Score: 0.00293\n",
      "Feature: PCO2.CO2_umm, Score: 0.01437\n",
      "Feature: PCO2.atm_cond, Score: 0.00054\n",
      "Feature: NMEA.Humidity, Score: 0.02277\n",
      "Feature: NMEA.Trykk, Score: 0.01860\n",
      "Feature: FerryBox.SBE45_Salinity, Score: 0.01951\n",
      "Feature: FerryBox.SBE45_Conductivity, Score: 0.01621\n",
      "Feature: FerryBox.Optode_Saturation, Score: 0.03152\n",
      "Feature: FerryBox.C3_Turbidity, Score: 0.04667\n",
      "Feature: FerryBox.C3_CHLAFluorescence, Score: 0.00989\n",
      "Feature: FerryBox.C3_Temperature, Score: 0.02729\n",
      "Feature: FerryBox.C3_CDOMFluorescence, Score: 0.01250\n",
      "Feature: date, Score: 0.00011\n",
      "Feature: time, Score: 0.05249\n"
     ]
    },
    {
     "data": {
      "image/png": "[encoded data removed]",
      "text/plain": [
       "<Figure size 432x288 with 1 Axes>"
      ]
     },
     "metadata": {
      "needs_background": "light"
     },
     "output_type": "display_data"
    }
   ],
   "source": [
    "# define the model\n",
    "model = DecisionTreeRegressor()\n",
    "# fit the model\n",
    "model.fit(X_train, y_train)\n",
    "# get importance\n",
    "importance = model.feature_importances_\n",
    "# summarize feature importance\n",
    "for i,v in enumerate(importance):\n",
    "\tprint(f'Feature: %s, Score: %.5f' % (X.columns[i],v))\n",
    "# plot feature importance\n",
    "#pyplot.bar([x for x in range(len(importance))], importance)\n",
    "importances = pd.Series(importance, index=X.columns)\n",
    "\n",
    "fig, ax = pyplot.subplots()\n",
    "importances.plot.bar([x for x in range(len(importance))], importance)\n",
    "ax.set_title(\"Feature importances DecisionTreeRegressor\")\n",
    "fig.tight_layout()\n",
    "pyplot.show()\n"
   ]
  },
  {
   "cell_type": "code",
   "execution_count": 342,
   "id": "fbe2c1cb-0d89-48f1-9aef-d913a5114075",
   "metadata": {},
   "outputs": [],
   "source": [
    "y_pred = model.predict(X_test)\n"
   ]
  },
  {
   "cell_type": "code",
   "execution_count": 343,
   "id": "a79f8999-6271-4cdf-841d-bc6614a53ecc",
   "metadata": {},
   "outputs": [
    {
     "name": "stdout",
     "output_type": "stream",
     "text": [
      "MAE score:  0.00038315195757852063\n",
      "R2 score:  0.540799378723412\n",
      "Smape score:  TOTAL    0.344851\n",
      "dtype: float64\n"
     ]
    }
   ],
   "source": [
    "print('MAE score: ', mean_absolute_error(y_test, y_pred))\n",
    "print('R2 score: ', r2_score(y_test, y_pred))\n",
    "print('Smape score: ', smape(y_test, y_pred.reshape(54925,1)))"
   ]
  },
  {
   "cell_type": "code",
   "execution_count": 344,
   "id": "088f8319-3a97-418b-9a27-22e54d18415d",
   "metadata": {},
   "outputs": [],
   "source": [
    "forest = RandomForestRegressor(random_state=0)\n",
    "forest.fit(X_train, y_train.values.ravel())\n",
    "start_time = time.time()\n",
    "importances = forest.feature_importances_\n",
    "std = np.std([tree.feature_importances_ for tree in forest.estimators_], axis=0)\n",
    "elapsed_time = time.time() - start_time"
   ]
  },
  {
   "cell_type": "code",
   "execution_count": 206,
   "id": "2568a654-55c2-43ff-ae54-89229632bf39",
   "metadata": {},
   "outputs": [
    {
     "data": {
      "image/png": "[encoded data removed]",
      "text/plain": [
       "<Figure size 432x288 with 1 Axes>"
      ]
     },
     "metadata": {
      "needs_background": "light"
     },
     "output_type": "display_data"
    }
   ],
   "source": [
    "forest_importances = pd.Series(importances, index=X.columns)\n",
    "\n",
    "fig, ax = pyplot.subplots()\n",
    "forest_importances.plot.bar(yerr=std, ax=ax)\n",
    "ax.set_title(\"Feature importances using MDI\")\n",
    "ax.set_ylabel(\"Mean decrease in impurity\")\n",
    "fig.tight_layout()"
   ]
  },
  {
   "cell_type": "code",
   "execution_count": 345,
   "id": "eeb64c0f-140a-4db4-9502-c320c806647b",
   "metadata": {},
   "outputs": [],
   "source": [
    "forest_pred = forest.predict(X_test)"
   ]
  },
  {
   "cell_type": "code",
   "execution_count": 346,
   "id": "589da8e0-9234-4e2c-b34e-47ed31c803df",
   "metadata": {},
   "outputs": [
    {
     "name": "stdout",
     "output_type": "stream",
     "text": [
      "MAE score:  0.0003141249270148207\n",
      "R2 score:  0.7142062231018311\n",
      "Smape score:  TOTAL    0.333652\n",
      "dtype: float64\n"
     ]
    }
   ],
   "source": [
    "print('MAE score: ', mean_absolute_error(y_test, forest_pred))\n",
    "print('R2 score: ', r2_score(y_test, forest_pred))\n",
    "print('Smape score: ', smape(y_test, forest_pred.reshape(54925,1)))"
   ]
  },
  {
   "cell_type": "code",
   "execution_count": 347,
   "id": "590adeb0-0593-4d3b-898f-4fb52aba6368",
   "metadata": {},
   "outputs": [
    {
     "ename": "KeyboardInterrupt",
     "evalue": "",
     "output_type": "error",
     "traceback": [
      "\u001b[0;31m---------------------------------------------------------------------------\u001b[0m",
      "\u001b[0;31mKeyboardInterrupt\u001b[0m                         Traceback (most recent call last)",
      "\u001b[0;32m<ipython-input-347-d6a23b7f7fbd>\u001b[0m in \u001b[0;36m<module>\u001b[0;34m\u001b[0m\n\u001b[1;32m      2\u001b[0m \u001b[0;34m\u001b[0m\u001b[0m\n\u001b[1;32m      3\u001b[0m \u001b[0mstart_time\u001b[0m \u001b[0;34m=\u001b[0m \u001b[0mtime\u001b[0m\u001b[0;34m.\u001b[0m\u001b[0mtime\u001b[0m\u001b[0;34m(\u001b[0m\u001b[0;34m)\u001b[0m\u001b[0;34m\u001b[0m\u001b[0;34m\u001b[0m\u001b[0m\n\u001b[0;32m----> 4\u001b[0;31m result = permutation_importance(\n\u001b[0m\u001b[1;32m      5\u001b[0m     \u001b[0mforest\u001b[0m\u001b[0;34m,\u001b[0m \u001b[0mX_test\u001b[0m\u001b[0;34m,\u001b[0m \u001b[0my_test\u001b[0m\u001b[0;34m,\u001b[0m \u001b[0mn_repeats\u001b[0m\u001b[0;34m=\u001b[0m\u001b[0;36m10\u001b[0m\u001b[0;34m,\u001b[0m \u001b[0mn_jobs\u001b[0m\u001b[0;34m=\u001b[0m\u001b[0;36m2\u001b[0m\u001b[0;34m\u001b[0m\u001b[0;34m\u001b[0m\u001b[0m\n\u001b[1;32m      6\u001b[0m )\n",
      "\u001b[0;32m/opt/anaconda3/lib/python3.8/site-packages/sklearn/utils/validation.py\u001b[0m in \u001b[0;36minner_f\u001b[0;34m(*args, **kwargs)\u001b[0m\n\u001b[1;32m     61\u001b[0m             \u001b[0mextra_args\u001b[0m \u001b[0;34m=\u001b[0m \u001b[0mlen\u001b[0m\u001b[0;34m(\u001b[0m\u001b[0margs\u001b[0m\u001b[0;34m)\u001b[0m \u001b[0;34m-\u001b[0m \u001b[0mlen\u001b[0m\u001b[0;34m(\u001b[0m\u001b[0mall_args\u001b[0m\u001b[0;34m)\u001b[0m\u001b[0;34m\u001b[0m\u001b[0;34m\u001b[0m\u001b[0m\n\u001b[1;32m     62\u001b[0m             \u001b[0;32mif\u001b[0m \u001b[0mextra_args\u001b[0m \u001b[0;34m<=\u001b[0m \u001b[0;36m0\u001b[0m\u001b[0;34m:\u001b[0m\u001b[0;34m\u001b[0m\u001b[0;34m\u001b[0m\u001b[0m\n\u001b[0;32m---> 63\u001b[0;31m                 \u001b[0;32mreturn\u001b[0m \u001b[0mf\u001b[0m\u001b[0;34m(\u001b[0m\u001b[0;34m*\u001b[0m\u001b[0margs\u001b[0m\u001b[0;34m,\u001b[0m \u001b[0;34m**\u001b[0m\u001b[0mkwargs\u001b[0m\u001b[0;34m)\u001b[0m\u001b[0;34m\u001b[0m\u001b[0;34m\u001b[0m\u001b[0m\n\u001b[0m\u001b[1;32m     64\u001b[0m \u001b[0;34m\u001b[0m\u001b[0m\n\u001b[1;32m     65\u001b[0m             \u001b[0;31m# extra_args > 0\u001b[0m\u001b[0;34m\u001b[0m\u001b[0;34m\u001b[0m\u001b[0;34m\u001b[0m\u001b[0m\n",
      "\u001b[0;32m/opt/anaconda3/lib/python3.8/site-packages/sklearn/inspection/_permutation_importance.py\u001b[0m in \u001b[0;36mpermutation_importance\u001b[0;34m(estimator, X, y, scoring, n_repeats, n_jobs, random_state, sample_weight)\u001b[0m\n\u001b[1;32m    147\u001b[0m     \u001b[0mbaseline_score\u001b[0m \u001b[0;34m=\u001b[0m \u001b[0m_weights_scorer\u001b[0m\u001b[0;34m(\u001b[0m\u001b[0mscorer\u001b[0m\u001b[0;34m,\u001b[0m \u001b[0mestimator\u001b[0m\u001b[0;34m,\u001b[0m \u001b[0mX\u001b[0m\u001b[0;34m,\u001b[0m \u001b[0my\u001b[0m\u001b[0;34m,\u001b[0m \u001b[0msample_weight\u001b[0m\u001b[0;34m)\u001b[0m\u001b[0;34m\u001b[0m\u001b[0;34m\u001b[0m\u001b[0m\n\u001b[1;32m    148\u001b[0m \u001b[0;34m\u001b[0m\u001b[0m\n\u001b[0;32m--> 149\u001b[0;31m     scores = Parallel(n_jobs=n_jobs)(delayed(_calculate_permutation_scores)(\n\u001b[0m\u001b[1;32m    150\u001b[0m         \u001b[0mestimator\u001b[0m\u001b[0;34m,\u001b[0m \u001b[0mX\u001b[0m\u001b[0;34m,\u001b[0m \u001b[0my\u001b[0m\u001b[0;34m,\u001b[0m \u001b[0msample_weight\u001b[0m\u001b[0;34m,\u001b[0m \u001b[0mcol_idx\u001b[0m\u001b[0;34m,\u001b[0m \u001b[0mrandom_seed\u001b[0m\u001b[0;34m,\u001b[0m \u001b[0mn_repeats\u001b[0m\u001b[0;34m,\u001b[0m \u001b[0mscorer\u001b[0m\u001b[0;34m\u001b[0m\u001b[0;34m\u001b[0m\u001b[0m\n\u001b[1;32m    151\u001b[0m     ) for col_idx in range(X.shape[1]))\n",
      "\u001b[0;32m/opt/anaconda3/lib/python3.8/site-packages/joblib/parallel.py\u001b[0m in \u001b[0;36m__call__\u001b[0;34m(self, iterable)\u001b[0m\n\u001b[1;32m   1052\u001b[0m \u001b[0;34m\u001b[0m\u001b[0m\n\u001b[1;32m   1053\u001b[0m             \u001b[0;32mwith\u001b[0m \u001b[0mself\u001b[0m\u001b[0;34m.\u001b[0m\u001b[0m_backend\u001b[0m\u001b[0;34m.\u001b[0m\u001b[0mretrieval_context\u001b[0m\u001b[0;34m(\u001b[0m\u001b[0;34m)\u001b[0m\u001b[0;34m:\u001b[0m\u001b[0;34m\u001b[0m\u001b[0;34m\u001b[0m\u001b[0m\n\u001b[0;32m-> 1054\u001b[0;31m                 \u001b[0mself\u001b[0m\u001b[0;34m.\u001b[0m\u001b[0mretrieve\u001b[0m\u001b[0;34m(\u001b[0m\u001b[0;34m)\u001b[0m\u001b[0;34m\u001b[0m\u001b[0;34m\u001b[0m\u001b[0m\n\u001b[0m\u001b[1;32m   1055\u001b[0m             \u001b[0;31m# Make sure that we get a last message telling us we are done\u001b[0m\u001b[0;34m\u001b[0m\u001b[0;34m\u001b[0m\u001b[0;34m\u001b[0m\u001b[0m\n\u001b[1;32m   1056\u001b[0m             \u001b[0melapsed_time\u001b[0m \u001b[0;34m=\u001b[0m \u001b[0mtime\u001b[0m\u001b[0;34m.\u001b[0m\u001b[0mtime\u001b[0m\u001b[0;34m(\u001b[0m\u001b[0;34m)\u001b[0m \u001b[0;34m-\u001b[0m \u001b[0mself\u001b[0m\u001b[0;34m.\u001b[0m\u001b[0m_start_time\u001b[0m\u001b[0;34m\u001b[0m\u001b[0;34m\u001b[0m\u001b[0m\n",
      "\u001b[0;32m/opt/anaconda3/lib/python3.8/site-packages/joblib/parallel.py\u001b[0m in \u001b[0;36mretrieve\u001b[0;34m(self)\u001b[0m\n\u001b[1;32m    931\u001b[0m             \u001b[0;32mtry\u001b[0m\u001b[0;34m:\u001b[0m\u001b[0;34m\u001b[0m\u001b[0;34m\u001b[0m\u001b[0m\n\u001b[1;32m    932\u001b[0m                 \u001b[0;32mif\u001b[0m \u001b[0mgetattr\u001b[0m\u001b[0;34m(\u001b[0m\u001b[0mself\u001b[0m\u001b[0;34m.\u001b[0m\u001b[0m_backend\u001b[0m\u001b[0;34m,\u001b[0m \u001b[0;34m'supports_timeout'\u001b[0m\u001b[0;34m,\u001b[0m \u001b[0;32mFalse\u001b[0m\u001b[0;34m)\u001b[0m\u001b[0;34m:\u001b[0m\u001b[0;34m\u001b[0m\u001b[0;34m\u001b[0m\u001b[0m\n\u001b[0;32m--> 933\u001b[0;31m                     \u001b[0mself\u001b[0m\u001b[0;34m.\u001b[0m\u001b[0m_output\u001b[0m\u001b[0;34m.\u001b[0m\u001b[0mextend\u001b[0m\u001b[0;34m(\u001b[0m\u001b[0mjob\u001b[0m\u001b[0;34m.\u001b[0m\u001b[0mget\u001b[0m\u001b[0;34m(\u001b[0m\u001b[0mtimeout\u001b[0m\u001b[0;34m=\u001b[0m\u001b[0mself\u001b[0m\u001b[0;34m.\u001b[0m\u001b[0mtimeout\u001b[0m\u001b[0;34m)\u001b[0m\u001b[0;34m)\u001b[0m\u001b[0;34m\u001b[0m\u001b[0;34m\u001b[0m\u001b[0m\n\u001b[0m\u001b[1;32m    934\u001b[0m                 \u001b[0;32melse\u001b[0m\u001b[0;34m:\u001b[0m\u001b[0;34m\u001b[0m\u001b[0;34m\u001b[0m\u001b[0m\n\u001b[1;32m    935\u001b[0m                     \u001b[0mself\u001b[0m\u001b[0;34m.\u001b[0m\u001b[0m_output\u001b[0m\u001b[0;34m.\u001b[0m\u001b[0mextend\u001b[0m\u001b[0;34m(\u001b[0m\u001b[0mjob\u001b[0m\u001b[0;34m.\u001b[0m\u001b[0mget\u001b[0m\u001b[0;34m(\u001b[0m\u001b[0;34m)\u001b[0m\u001b[0;34m)\u001b[0m\u001b[0;34m\u001b[0m\u001b[0;34m\u001b[0m\u001b[0m\n",
      "\u001b[0;32m/opt/anaconda3/lib/python3.8/site-packages/joblib/_parallel_backends.py\u001b[0m in \u001b[0;36mwrap_future_result\u001b[0;34m(future, timeout)\u001b[0m\n\u001b[1;32m    540\u001b[0m         AsyncResults.get from multiprocessing.\"\"\"\n\u001b[1;32m    541\u001b[0m         \u001b[0;32mtry\u001b[0m\u001b[0;34m:\u001b[0m\u001b[0;34m\u001b[0m\u001b[0;34m\u001b[0m\u001b[0m\n\u001b[0;32m--> 542\u001b[0;31m             \u001b[0;32mreturn\u001b[0m \u001b[0mfuture\u001b[0m\u001b[0;34m.\u001b[0m\u001b[0mresult\u001b[0m\u001b[0;34m(\u001b[0m\u001b[0mtimeout\u001b[0m\u001b[0;34m=\u001b[0m\u001b[0mtimeout\u001b[0m\u001b[0;34m)\u001b[0m\u001b[0;34m\u001b[0m\u001b[0;34m\u001b[0m\u001b[0m\n\u001b[0m\u001b[1;32m    543\u001b[0m         \u001b[0;32mexcept\u001b[0m \u001b[0mCfTimeoutError\u001b[0m \u001b[0;32mas\u001b[0m \u001b[0me\u001b[0m\u001b[0;34m:\u001b[0m\u001b[0;34m\u001b[0m\u001b[0;34m\u001b[0m\u001b[0m\n\u001b[1;32m    544\u001b[0m             \u001b[0;32mraise\u001b[0m \u001b[0mTimeoutError\u001b[0m \u001b[0;32mfrom\u001b[0m \u001b[0me\u001b[0m\u001b[0;34m\u001b[0m\u001b[0;34m\u001b[0m\u001b[0m\n",
      "\u001b[0;32m/opt/anaconda3/lib/python3.8/concurrent/futures/_base.py\u001b[0m in \u001b[0;36mresult\u001b[0;34m(self, timeout)\u001b[0m\n\u001b[1;32m    432\u001b[0m                 \u001b[0;32mreturn\u001b[0m \u001b[0mself\u001b[0m\u001b[0;34m.\u001b[0m\u001b[0m__get_result\u001b[0m\u001b[0;34m(\u001b[0m\u001b[0;34m)\u001b[0m\u001b[0;34m\u001b[0m\u001b[0;34m\u001b[0m\u001b[0m\n\u001b[1;32m    433\u001b[0m \u001b[0;34m\u001b[0m\u001b[0m\n\u001b[0;32m--> 434\u001b[0;31m             \u001b[0mself\u001b[0m\u001b[0;34m.\u001b[0m\u001b[0m_condition\u001b[0m\u001b[0;34m.\u001b[0m\u001b[0mwait\u001b[0m\u001b[0;34m(\u001b[0m\u001b[0mtimeout\u001b[0m\u001b[0;34m)\u001b[0m\u001b[0;34m\u001b[0m\u001b[0;34m\u001b[0m\u001b[0m\n\u001b[0m\u001b[1;32m    435\u001b[0m \u001b[0;34m\u001b[0m\u001b[0m\n\u001b[1;32m    436\u001b[0m             \u001b[0;32mif\u001b[0m \u001b[0mself\u001b[0m\u001b[0;34m.\u001b[0m\u001b[0m_state\u001b[0m \u001b[0;32min\u001b[0m \u001b[0;34m[\u001b[0m\u001b[0mCANCELLED\u001b[0m\u001b[0;34m,\u001b[0m \u001b[0mCANCELLED_AND_NOTIFIED\u001b[0m\u001b[0;34m]\u001b[0m\u001b[0;34m:\u001b[0m\u001b[0;34m\u001b[0m\u001b[0;34m\u001b[0m\u001b[0m\n",
      "\u001b[0;32m/opt/anaconda3/lib/python3.8/threading.py\u001b[0m in \u001b[0;36mwait\u001b[0;34m(self, timeout)\u001b[0m\n\u001b[1;32m    300\u001b[0m         \u001b[0;32mtry\u001b[0m\u001b[0;34m:\u001b[0m    \u001b[0;31m# restore state no matter what (e.g., KeyboardInterrupt)\u001b[0m\u001b[0;34m\u001b[0m\u001b[0;34m\u001b[0m\u001b[0m\n\u001b[1;32m    301\u001b[0m             \u001b[0;32mif\u001b[0m \u001b[0mtimeout\u001b[0m \u001b[0;32mis\u001b[0m \u001b[0;32mNone\u001b[0m\u001b[0;34m:\u001b[0m\u001b[0;34m\u001b[0m\u001b[0;34m\u001b[0m\u001b[0m\n\u001b[0;32m--> 302\u001b[0;31m                 \u001b[0mwaiter\u001b[0m\u001b[0;34m.\u001b[0m\u001b[0macquire\u001b[0m\u001b[0;34m(\u001b[0m\u001b[0;34m)\u001b[0m\u001b[0;34m\u001b[0m\u001b[0;34m\u001b[0m\u001b[0m\n\u001b[0m\u001b[1;32m    303\u001b[0m                 \u001b[0mgotit\u001b[0m \u001b[0;34m=\u001b[0m \u001b[0;32mTrue\u001b[0m\u001b[0;34m\u001b[0m\u001b[0;34m\u001b[0m\u001b[0m\n\u001b[1;32m    304\u001b[0m             \u001b[0;32melse\u001b[0m\u001b[0;34m:\u001b[0m\u001b[0;34m\u001b[0m\u001b[0;34m\u001b[0m\u001b[0m\n",
      "\u001b[0;31mKeyboardInterrupt\u001b[0m: "
     ]
    }
   ],
   "source": [
    "from sklearn.inspection import permutation_importance\n",
    "\n",
    "start_time = time.time()\n",
    "result = permutation_importance(\n",
    "    forest, X_test, y_test, n_repeats=10, n_jobs=2\n",
    ")\n",
    "elapsed_time = time.time() - start_time\n",
    "print(f\"Elapsed time to compute the importances: {elapsed_time:.3f} seconds\")\n",
    "\n",
    "forest_importances = pd.Series(result.importances_mean, index=X.columns)"
   ]
  },
  {
   "cell_type": "code",
   "execution_count": 129,
   "id": "d35ea23e-42ae-48d3-9b83-aa41cd401533",
   "metadata": {},
   "outputs": [
    {
     "data": {
      "image/png": "[encoded data removed]",
      "text/plain": [
       "<Figure size 432x288 with 1 Axes>"
      ]
     },
     "metadata": {
      "needs_background": "light"
     },
     "output_type": "display_data"
    }
   ],
   "source": [
    "fig, ax = pyplot.subplots()\n",
    "forest_importances.plot.bar(yerr=result.importances_std, ax=ax)\n",
    "ax.set_title(\"Feature importances using permutation on full model\")\n",
    "ax.set_ylabel(\"Mean accuracy decrease\")\n",
    "fig.tight_layout()\n",
    "pyplot.show()"
   ]
  },
  {
   "cell_type": "code",
   "execution_count": null,
   "id": "11f79acc-cc0b-465b-b9e2-59c6e964a478",
   "metadata": {},
   "outputs": [],
   "source": []
  },
  {
   "cell_type": "code",
   "execution_count": 280,
   "id": "671eadd2-98ce-476b-91ac-108929fd9262",
   "metadata": {},
   "outputs": [],
   "source": [
    "from sklearn.preprocessing import scale \n",
    "from sklearn import preprocessing\n",
    "from sklearn import model_selection\n",
    "from sklearn.model_selection import RepeatedKFold\n",
    "from sklearn.model_selection import train_test_split\n",
    "from sklearn.cross_decomposition import PLSRegression\n",
    "from sklearn.metrics import mean_absolute_error, r2_score\n",
    "import sklearn"
   ]
  },
  {
   "cell_type": "code",
   "execution_count": null,
   "id": "60b72ebd-6a58-40f3-ad27-52479c45caaf",
   "metadata": {},
   "outputs": [],
   "source": [
    "from sklearn import preprocessing\n",
    "# Get column names first\n",
    "names = X_train.columns\n",
    "# Create the Scaler object\n",
    "scaler = preprocessing.StandardScaler()\n",
    "# Fit your data on the scaler object\n",
    "scaled_df = scaler.fit_transform(X_train)\n",
    "scaled_df = pd.DataFrame(scaled_df, columns=names)"
   ]
  },
  {
   "cell_type": "code",
   "execution_count": 348,
   "id": "4978d149-4ca8-4917-868d-a4f2dc9bd89a",
   "metadata": {},
   "outputs": [
    {
     "data": {
      "text/plain": [
       "Text(0.5, 1.0, 'Total')"
      ]
     },
     "execution_count": 348,
     "metadata": {},
     "output_type": "execute_result"
    },
    {
     "data": {
      "image/png": "[encoded data removed]",
      "text/plain": [
       "<Figure size 432x288 with 1 Axes>"
      ]
     },
     "metadata": {
      "needs_background": "light"
     },
     "output_type": "display_data"
    }
   ],
   "source": [
    "#define cross-validation method\n",
    "cv = RepeatedKFold(n_splits=10, n_repeats=3, random_state=1)\n",
    "\n",
    "mse = []\n",
    "n = len(X_train)\n",
    "\n",
    "# Calculate MAPE using cross-validation, adding one component at a time\n",
    "for i in np.arange(1, 21):\n",
    "    pls = PLSRegression(n_components=i)\n",
    "    score = -1*model_selection.cross_val_score(pls, X_train, y_train, cv=cv,\n",
    "               scoring='neg_mean_absolute_error').mean()\n",
    "    mse.append(score)\n",
    "\n",
    "#plot test MAPE vs. number of components\n",
    "plt.plot(mse)\n",
    "plt.xlabel('Number of PLS Components')\n",
    "plt.ylabel('MAE')\n",
    "plt.xlim((1,20))\n",
    "plt.title('Total')"
   ]
  },
  {
   "cell_type": "code",
   "execution_count": 324,
   "id": "50ab49b6-5a68-489e-8018-e9129e51522b",
   "metadata": {},
   "outputs": [
    {
     "data": {
      "text/plain": [
       "PLSRegression(n_components=5)"
      ]
     },
     "execution_count": 324,
     "metadata": {},
     "output_type": "execute_result"
    }
   ],
   "source": [
    "pls = PLSRegression(n_components=5)\n",
    "pls.fit(X_train, y_train)"
   ]
  },
  {
   "cell_type": "code",
   "execution_count": 325,
   "id": "03b5a271-3b36-4282-a515-a157fa0a0fd0",
   "metadata": {},
   "outputs": [],
   "source": [
    "pls_pred = pls.predict(X_test)"
   ]
  },
  {
   "cell_type": "code",
   "execution_count": 326,
   "id": "05b0d6de-4b68-4157-a4b9-72d47cf0c339",
   "metadata": {},
   "outputs": [
    {
     "name": "stdout",
     "output_type": "stream",
     "text": [
      "MAE score:  0.5291156344091279\n",
      "R2 score:  0.07955779505208327\n",
      "Smape score:  TOTAL    1.360847\n",
      "dtype: float64\n"
     ]
    }
   ],
   "source": [
    "print('MAE score: ', mean_absolute_error(y_test, pls_pred))\n",
    "print('R2 score: ', r2_score(y_test, pls_pred))\n",
    "print('Smape score: ', smape(y_test, pls_pred.reshape(54925,1)))"
   ]
  },
  {
   "cell_type": "code",
   "execution_count": 289,
   "id": "6570bd95-1ff5-4454-bda7-10cab078c63a",
   "metadata": {},
   "outputs": [],
   "source": [
    "def smape(A, F):\n",
    "    return 1/len(A) * np.sum(2 * np.abs(F - A) / (np.abs(A) + np.abs(F)))"
   ]
  },
  {
   "cell_type": "code",
   "execution_count": 291,
   "id": "8d3809e9-2bc8-46da-a344-174964e6c448",
   "metadata": {},
   "outputs": [
    {
     "data": {
      "text/plain": [
       "TOTAL    1.223121\n",
       "dtype: float64"
      ]
     },
     "execution_count": 291,
     "metadata": {},
     "output_type": "execute_result"
    }
   ],
   "source": [
    "smape(y_test, pls_pred)"
   ]
  },
  {
   "cell_type": "code",
   "execution_count": null,
   "id": "ccdd462d-248b-4587-b57c-266eabf7a196",
   "metadata": {},
   "outputs": [],
   "source": []
  }
 ],
 "metadata": {
  "kernelspec": {
   "display_name": "Python 3",
   "language": "python",
   "name": "python3"
  },
  "language_info": {
   "codemirror_mode": {
    "name": "ipython",
    "version": 3
   },
   "file_extension": ".py",
   "mimetype": "text/x-python",
   "name": "python",
   "nbconvert_exporter": "python",
   "pygments_lexer": "ipython3",
   "version": "3.8.8"
  }
 },
 "nbformat": 4,
 "nbformat_minor": 5
}
