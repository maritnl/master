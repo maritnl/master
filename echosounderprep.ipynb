{
 "cells": [
  {
   "cell_type": "code",
   "execution_count": 2,
   "id": "0c559b3e",
   "metadata": {},
   "outputs": [],
   "source": [
    "import pandas as pd\n",
    "import numpy as np\n",
    "import csv"
   ]
  },
  {
   "cell_type": "code",
   "execution_count": 12,
   "id": "b0cf4d21",
   "metadata": {},
   "outputs": [],
   "source": [
    "def prep_echo(path, outname):\n",
    "    #data = pd.read_csv('echosoundertest.txt',sep=\" \",header = None)\n",
    "    df = pd.read_fwf(path)\n",
    "    # Add 0 in front of numbers that are less than 10\n",
    "    df['MO'] = df['MO'].apply(lambda x: x+1 if x > 9 else str(x).zfill(2))\n",
    "    # Create dataid to match sensors, set as index\n",
    "    df['dataid']=df['YEAR'].astype(str)+'-'+df['MO']+'-'+df['DA'].astype(str)+'T'+df['UTC']\n",
    "    df.set_index('dataid')\n",
    "    # Cast to datetime, round to nearest half hour\n",
    "    df.dataid = pd.to_datetime(df.dataid, format='%Y-%m-%d %H:%M:%S')\n",
    "    df.dataid = df['dataid'].dt.round('30min') \n",
    "    # Drop unnecessary columns\n",
    "    df = df.drop(['BDMIN', 'BDMAX', 'OBJECT', 'UPINLM', 'PDMIN', 'PDMAX', 'LOG1', 'LOG2', 'CH', 'YEAR', 'MO', 'DA', 'UTC', 'Me/Pl' ], axis=1)\n",
    "    df.to_csv(f'{outname}.csv', index=False)\n",
    "    return df"
   ]
  },
  {
   "cell_type": "code",
   "execution_count": 15,
   "id": "c1f0eff7-f57e-403e-882c-0940c70fb058",
   "metadata": {},
   "outputs": [
    {
     "data": {
      "text/plain": [
       "0       2022-01-29 07:30:00\n",
       "1       2022-01-29 07:30:00\n",
       "2       2022-01-29 07:30:00\n",
       "3       2022-01-29 07:30:00\n",
       "4       2022-01-29 07:30:00\n",
       "                ...        \n",
       "43211   2022-02-19 21:00:00\n",
       "43212   2022-02-19 21:00:00\n",
       "43213   2022-02-19 21:00:00\n",
       "43214   2022-02-19 21:00:00\n",
       "43215   2022-02-19 21:00:00\n",
       "Name: dataid, Length: 43216, dtype: datetime64[ns]"
      ]
     },
     "execution_count": 15,
     "metadata": {},
     "output_type": "execute_result"
    }
   ],
   "source": [
    "df = prep_echo('leg4_feb.txt', 'leg4_echo_prepped')"
   ]
  },
  {
   "cell_type": "code",
   "execution_count": null,
   "id": "2fb92c0f-c607-4c42-a97e-4cdcb6776c36",
   "metadata": {},
   "outputs": [],
   "source": [
    "def iden (row):\n",
    "    month = str(row[1]) if row[1] > 9 else '0'+str(row[1])\n",
    "    day = str(row[2]) if row[2] > 9 else '0'+str(row[2])\n",
    "    \n",
    "    return str(row[0])+'-'+month+'-'+day+'T'+str(row[3])"
   ]
  },
  {
   "cell_type": "code",
   "execution_count": 4,
   "id": "aac0b9a7",
   "metadata": {},
   "outputs": [
    {
     "name": "stdout",
     "output_type": "stream",
     "text": [
      "26.923 90.66329999999999 1632.7231000000004 1860.3093000000003\n"
     ]
    }
   ],
   "source": [
    "nm = df.to_numpy()\n",
    "count = 0\n",
    "new = []\n",
    "for row in nm:\n",
    "     if row[3]=='08:02:05':\n",
    "        count += 1\n",
    "        new.append(row)\n",
    "\n",
    "sha, inte, deep, total = 0,0,0,0\n",
    "for i in range(count):\n",
    "    sha += new[i][8]\n",
    "    inte+= new[i][9]\n",
    "    deep+= new[i][7]\n",
    "    total+=new[i][10]\n",
    "\n",
    "\n",
    "print(sha, inte, deep, total)"
   ]
  },
  {
   "cell_type": "code",
   "execution_count": 46,
   "id": "ab4124f1",
   "metadata": {},
   "outputs": [],
   "source": [
    "with open(\"new_file.csv\",\"w+\") as my_csv:\n",
    "    csvWriter = csv.writer(my_csv,delimiter=',')\n",
    "    csvWriter.writerows(arr)"
   ]
  },
  {
   "cell_type": "code",
   "execution_count": null,
   "id": "c0da4017",
   "metadata": {},
   "outputs": [],
   "source": [
    "print(arr)"
   ]
  },
  {
   "cell_type": "code",
   "execution_count": null,
   "id": "ae17097f",
   "metadata": {},
   "outputs": [],
   "source": []
  }
 ],
 "metadata": {
  "kernelspec": {
   "display_name": "Python 3",
   "language": "python",
   "name": "python3"
  },
  "language_info": {
   "codemirror_mode": {
    "name": "ipython",
    "version": 3
   },
   "file_extension": ".py",
   "mimetype": "text/x-python",
   "name": "python",
   "nbconvert_exporter": "python",
   "pygments_lexer": "ipython3",
   "version": "3.8.8"
  }
 },
 "nbformat": 4,
 "nbformat_minor": 5
}
