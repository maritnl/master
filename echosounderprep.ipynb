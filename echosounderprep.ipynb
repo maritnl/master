{
 "cells": [
  {
   "cell_type": "code",
   "execution_count": 2,
   "id": "0c559b3e",
   "metadata": {},
   "outputs": [],
   "source": [
    "import pandas as pd\n",
    "import numpy as np\n",
    "import csv"
   ]
  },
  {
   "cell_type": "code",
   "execution_count": 3,
   "id": "b0cf4d21",
   "metadata": {},
   "outputs": [],
   "source": [
    "def prep_echo(path, outname):\n",
    "    #data = pd.read_csv('echosoundertest.txt',sep=\" \",header = None)\n",
    "    df = pd.read_fwf(path)\n",
    "    # Add 0 in front of numbers that are less than 10\n",
    "    df['MO'] = df['MO'].apply(lambda x: str(x) if x > 9 else str(x).zfill(2))\n",
    "    # Create dataid to match sensors, set as index\n",
    "    df['dataid']=df['YEAR'].astype(str)+'-'+df['MO']+'-'+df['DA'].astype(str)+'T'+df['UTC']\n",
    "    df.set_index('dataid')\n",
    "    # Cast to datetime, round to nearest half hour\n",
    "    df.dataid = pd.to_datetime(df.dataid, format='%Y-%m-%d %H:%M:%S')\n",
    "    df.dataid = df['dataid'].dt.round('30min') \n",
    "    # Drop unnecessary columns\n",
    "    df = df.drop(['BDMIN', 'BDMAX', 'OBJECT', 'UPINLM', 'PDMIN', 'PDMAX', 'LOG1', 'LOG2', 'CH', 'YEAR', 'MO', 'DA', 'UTC', 'Me/Pl' ], axis=1)\n",
    "    df.to_csv(f'{outname}.csv', index=False)\n",
    "    return df"
   ]
  },
  {
   "cell_type": "code",
   "execution_count": null,
   "id": "c1f0eff7-f57e-403e-882c-0940c70fb058",
   "metadata": {},
   "outputs": [],
   "source": [
    "df = prep_echo('leg2_data.txt', 'leg2_echo_prepped')"
   ]
  },
  {
   "cell_type": "code",
   "execution_count": null,
   "id": "2fb92c0f-c607-4c42-a97e-4cdcb6776c36",
   "metadata": {},
   "outputs": [],
   "source": [
    "def iden (row):\n",
    "    month = str(row[1]) if row[1] > 9 else '0'+str(row[1])\n",
    "    day = str(row[2]) if row[2] > 9 else '0'+str(row[2])\n",
    "    \n",
    "    return str(row[0])+'-'+month+'-'+day+'T'+str(row[3])"
   ]
  },
  {
   "cell_type": "code",
   "execution_count": null,
   "id": "c0da4017",
   "metadata": {},
   "outputs": [],
   "source": [
    "print(arr)"
   ]
  },
  {
   "cell_type": "code",
   "execution_count": null,
   "id": "ae17097f",
   "metadata": {},
   "outputs": [],
   "source": [
    "df"
   ]
  },
  {
   "cell_type": "code",
   "execution_count": 4,
   "id": "6c79c7d4-e655-439e-93f8-43cf78670011",
   "metadata": {},
   "outputs": [],
   "source": [
    "import xarray as xr\n",
    "\n",
    "ds = xr.open_dataset('GEBCO_13_Jul_2022_67c854092a40/gebco_2022_n60.7495_s-46.3821_w-100.2326_e14.0639.nc')\n",
    "dsf = ds.to_dataframe()\n",
    "\n",
    "dsf = dsf.reset_index()\n"
   ]
  },
  {
   "cell_type": "code",
   "execution_count": 5,
   "id": "f76e1a04-9a9d-473e-bec8-faa26d3dda68",
   "metadata": {},
   "outputs": [],
   "source": [
    "def add_seafloor_depth(echo, sf):\n",
    "    for index, row in echo.iterrows():\n",
    "        closest_depth = find_closest(sf, row['LATITUDE'], row['LONGITUD'])\n",
    "        echo.at[index,'sf_depth'] = closest_depth\n",
    "        \n",
    "    return echo"
   ]
  },
  {
   "cell_type": "code",
   "execution_count": 14,
   "id": "183ae89f-5926-40ad-9f46-17f17ca5df2c",
   "metadata": {},
   "outputs": [
    {
     "data": {
      "text/html": [
       "<div>\n",
       "<style scoped>\n",
       "    .dataframe tbody tr th:only-of-type {\n",
       "        vertical-align: middle;\n",
       "    }\n",
       "\n",
       "    .dataframe tbody tr th {\n",
       "        vertical-align: top;\n",
       "    }\n",
       "\n",
       "    .dataframe thead th {\n",
       "        text-align: right;\n",
       "    }\n",
       "</style>\n",
       "<table border=\"1\" class=\"dataframe\">\n",
       "  <thead>\n",
       "    <tr style=\"text-align: right;\">\n",
       "      <th></th>\n",
       "      <th>LATITUDE</th>\n",
       "      <th>LONGITUD</th>\n",
       "      <th>sf_depth</th>\n",
       "    </tr>\n",
       "  </thead>\n",
       "  <tbody>\n",
       "    <tr>\n",
       "      <th>count</th>\n",
       "      <td>592.000000</td>\n",
       "      <td>592.000000</td>\n",
       "      <td>592.0</td>\n",
       "    </tr>\n",
       "    <tr>\n",
       "      <th>mean</th>\n",
       "      <td>1.109639</td>\n",
       "      <td>-32.079918</td>\n",
       "      <td>73.0</td>\n",
       "    </tr>\n",
       "    <tr>\n",
       "      <th>std</th>\n",
       "      <td>15.342531</td>\n",
       "      <td>3.232202</td>\n",
       "      <td>0.0</td>\n",
       "    </tr>\n",
       "    <tr>\n",
       "      <th>min</th>\n",
       "      <td>-23.194540</td>\n",
       "      <td>-40.661920</td>\n",
       "      <td>73.0</td>\n",
       "    </tr>\n",
       "    <tr>\n",
       "      <th>25%</th>\n",
       "      <td>-13.052125</td>\n",
       "      <td>-34.221292</td>\n",
       "      <td>73.0</td>\n",
       "    </tr>\n",
       "    <tr>\n",
       "      <th>50%</th>\n",
       "      <td>3.178735</td>\n",
       "      <td>-30.901220</td>\n",
       "      <td>73.0</td>\n",
       "    </tr>\n",
       "    <tr>\n",
       "      <th>75%</th>\n",
       "      <td>14.734540</td>\n",
       "      <td>-29.273235</td>\n",
       "      <td>73.0</td>\n",
       "    </tr>\n",
       "    <tr>\n",
       "      <th>max</th>\n",
       "      <td>26.689290</td>\n",
       "      <td>-28.439590</td>\n",
       "      <td>73.0</td>\n",
       "    </tr>\n",
       "  </tbody>\n",
       "</table>\n",
       "</div>"
      ],
      "text/plain": [
       "         LATITUDE    LONGITUD  sf_depth\n",
       "count  592.000000  592.000000     592.0\n",
       "mean     1.109639  -32.079918      73.0\n",
       "std     15.342531    3.232202       0.0\n",
       "min    -23.194540  -40.661920      73.0\n",
       "25%    -13.052125  -34.221292      73.0\n",
       "50%      3.178735  -30.901220      73.0\n",
       "75%     14.734540  -29.273235      73.0\n",
       "max     26.689290  -28.439590      73.0"
      ]
     },
     "execution_count": 14,
     "metadata": {},
     "output_type": "execute_result"
    }
   ],
   "source": [
    "df = pd.read_csv('leg4_echo_prepped.csv')\n",
    "df.dataid = pd.to_datetime(df['dataid'])\n",
    "df['LATITUDE'] = np.where((df['LATITUDE']>=10) & (df['dataid'] >= '2022-02-13'), -df['LATITUDE'], df['LATITUDE'])\n",
    " \n",
    "uniq = df[['LATITUDE', 'LONGITUD']].value_counts().reset_index(name='sf_depth')"
   ]
  },
  {
   "cell_type": "code",
   "execution_count": 9,
   "id": "5d1bf9e7-a676-4305-9778-ffeb75f8ba76",
   "metadata": {},
   "outputs": [],
   "source": [
    "df_w_depth = add_seafloor_depth(uniq, dsf_4)"
   ]
  },
  {
   "cell_type": "code",
   "execution_count": 7,
   "id": "dfd856a9-74b0-41db-8d59-ef73deb26818",
   "metadata": {},
   "outputs": [],
   "source": [
    "def find_closest(df, lat, lon):\n",
    "    dist = (df['lat'] - lat).abs() + (df['lon'] - lon).abs()\n",
    "    closest = df.loc[dist.idxmin()]\n",
    "    return closest['elevation']"
   ]
  },
  {
   "cell_type": "code",
   "execution_count": 8,
   "id": "b0b35449-f6a2-481a-b1fd-dfcf8249f2b4",
   "metadata": {},
   "outputs": [],
   "source": [
    "dsf_4 = dsf.loc[(dsf['lat'] >= -23.194540) & (dsf['lat'] <= 26.689290)]"
   ]
  },
  {
   "cell_type": "code",
   "execution_count": 10,
   "id": "5be199ef-c615-4ee8-94db-40ce3b0669a9",
   "metadata": {},
   "outputs": [],
   "source": [
    "new_df = pd.merge(df, df_w_depth,  how='left', on=['LATITUDE', 'LONGITUD'])"
   ]
  },
  {
   "cell_type": "code",
   "execution_count": 11,
   "id": "9483c26c-9bd6-4658-adb3-c6b9b107a22f",
   "metadata": {},
   "outputs": [
    {
     "data": {
      "text/html": [
       "<div>\n",
       "<style scoped>\n",
       "    .dataframe tbody tr th:only-of-type {\n",
       "        vertical-align: middle;\n",
       "    }\n",
       "\n",
       "    .dataframe tbody tr th {\n",
       "        vertical-align: top;\n",
       "    }\n",
       "\n",
       "    .dataframe thead th {\n",
       "        text-align: right;\n",
       "    }\n",
       "</style>\n",
       "<table border=\"1\" class=\"dataframe\">\n",
       "  <thead>\n",
       "    <tr style=\"text-align: right;\">\n",
       "      <th></th>\n",
       "      <th>LATITUDE</th>\n",
       "      <th>LONGITUD</th>\n",
       "      <th>PDMEAN</th>\n",
       "      <th>TOTAL</th>\n",
       "      <th>dataid</th>\n",
       "      <th>sf_depth</th>\n",
       "    </tr>\n",
       "  </thead>\n",
       "  <tbody>\n",
       "    <tr>\n",
       "      <th>0</th>\n",
       "      <td>26.68929</td>\n",
       "      <td>-29.05914</td>\n",
       "      <td>7.5</td>\n",
       "      <td>0.0000</td>\n",
       "      <td>2022-01-29 07:30:00</td>\n",
       "      <td>-5264</td>\n",
       "    </tr>\n",
       "    <tr>\n",
       "      <th>1</th>\n",
       "      <td>26.68929</td>\n",
       "      <td>-29.05914</td>\n",
       "      <td>15.0</td>\n",
       "      <td>4.3472</td>\n",
       "      <td>2022-01-29 07:30:00</td>\n",
       "      <td>-5264</td>\n",
       "    </tr>\n",
       "    <tr>\n",
       "      <th>2</th>\n",
       "      <td>26.68929</td>\n",
       "      <td>-29.05914</td>\n",
       "      <td>25.0</td>\n",
       "      <td>10.4678</td>\n",
       "      <td>2022-01-29 07:30:00</td>\n",
       "      <td>-5264</td>\n",
       "    </tr>\n",
       "    <tr>\n",
       "      <th>3</th>\n",
       "      <td>26.68929</td>\n",
       "      <td>-29.05914</td>\n",
       "      <td>35.0</td>\n",
       "      <td>12.3473</td>\n",
       "      <td>2022-01-29 07:30:00</td>\n",
       "      <td>-5264</td>\n",
       "    </tr>\n",
       "    <tr>\n",
       "      <th>4</th>\n",
       "      <td>26.68929</td>\n",
       "      <td>-29.05914</td>\n",
       "      <td>45.0</td>\n",
       "      <td>14.3287</td>\n",
       "      <td>2022-01-29 07:30:00</td>\n",
       "      <td>-5264</td>\n",
       "    </tr>\n",
       "    <tr>\n",
       "      <th>...</th>\n",
       "      <td>...</td>\n",
       "      <td>...</td>\n",
       "      <td>...</td>\n",
       "      <td>...</td>\n",
       "      <td>...</td>\n",
       "      <td>...</td>\n",
       "    </tr>\n",
       "    <tr>\n",
       "      <th>43211</th>\n",
       "      <td>-23.19454</td>\n",
       "      <td>-40.66192</td>\n",
       "      <td>685.0</td>\n",
       "      <td>35.0402</td>\n",
       "      <td>2022-02-19 21:00:00</td>\n",
       "      <td>-1894</td>\n",
       "    </tr>\n",
       "    <tr>\n",
       "      <th>43212</th>\n",
       "      <td>-23.19454</td>\n",
       "      <td>-40.66192</td>\n",
       "      <td>695.0</td>\n",
       "      <td>45.1827</td>\n",
       "      <td>2022-02-19 21:00:00</td>\n",
       "      <td>-1894</td>\n",
       "    </tr>\n",
       "    <tr>\n",
       "      <th>43213</th>\n",
       "      <td>-23.19454</td>\n",
       "      <td>-40.66192</td>\n",
       "      <td>705.0</td>\n",
       "      <td>351.3631</td>\n",
       "      <td>2022-02-19 21:00:00</td>\n",
       "      <td>-1894</td>\n",
       "    </tr>\n",
       "    <tr>\n",
       "      <th>43214</th>\n",
       "      <td>-23.19454</td>\n",
       "      <td>-40.66192</td>\n",
       "      <td>715.0</td>\n",
       "      <td>42.6268</td>\n",
       "      <td>2022-02-19 21:00:00</td>\n",
       "      <td>-1894</td>\n",
       "    </tr>\n",
       "    <tr>\n",
       "      <th>43215</th>\n",
       "      <td>-23.19454</td>\n",
       "      <td>-40.66192</td>\n",
       "      <td>725.0</td>\n",
       "      <td>18.3478</td>\n",
       "      <td>2022-02-19 21:00:00</td>\n",
       "      <td>-1894</td>\n",
       "    </tr>\n",
       "  </tbody>\n",
       "</table>\n",
       "<p>43216 rows × 6 columns</p>\n",
       "</div>"
      ],
      "text/plain": [
       "       LATITUDE  LONGITUD  PDMEAN     TOTAL              dataid  sf_depth\n",
       "0      26.68929 -29.05914     7.5    0.0000 2022-01-29 07:30:00     -5264\n",
       "1      26.68929 -29.05914    15.0    4.3472 2022-01-29 07:30:00     -5264\n",
       "2      26.68929 -29.05914    25.0   10.4678 2022-01-29 07:30:00     -5264\n",
       "3      26.68929 -29.05914    35.0   12.3473 2022-01-29 07:30:00     -5264\n",
       "4      26.68929 -29.05914    45.0   14.3287 2022-01-29 07:30:00     -5264\n",
       "...         ...       ...     ...       ...                 ...       ...\n",
       "43211 -23.19454 -40.66192   685.0   35.0402 2022-02-19 21:00:00     -1894\n",
       "43212 -23.19454 -40.66192   695.0   45.1827 2022-02-19 21:00:00     -1894\n",
       "43213 -23.19454 -40.66192   705.0  351.3631 2022-02-19 21:00:00     -1894\n",
       "43214 -23.19454 -40.66192   715.0   42.6268 2022-02-19 21:00:00     -1894\n",
       "43215 -23.19454 -40.66192   725.0   18.3478 2022-02-19 21:00:00     -1894\n",
       "\n",
       "[43216 rows x 6 columns]"
      ]
     },
     "execution_count": 11,
     "metadata": {},
     "output_type": "execute_result"
    }
   ],
   "source": [
    "new_df"
   ]
  },
  {
   "cell_type": "code",
   "execution_count": 12,
   "id": "c0e32790-352b-49f3-9cae-69835970facf",
   "metadata": {},
   "outputs": [],
   "source": [
    "new_df.to_csv('leg4_echo_prepped.csv', index=False)"
   ]
  },
  {
   "cell_type": "code",
   "execution_count": null,
   "id": "d1c2006b-f819-4292-8835-9eb93a7f69ef",
   "metadata": {},
   "outputs": [],
   "source": []
  }
 ],
 "metadata": {
  "kernelspec": {
   "display_name": "Python 3",
   "language": "python",
   "name": "python3"
  },
  "language_info": {
   "codemirror_mode": {
    "name": "ipython",
    "version": 3
   },
   "file_extension": ".py",
   "mimetype": "text/x-python",
   "name": "python",
   "nbconvert_exporter": "python",
   "pygments_lexer": "ipython3",
   "version": "3.8.8"
  }
 },
 "nbformat": 4,
 "nbformat_minor": 5
}
