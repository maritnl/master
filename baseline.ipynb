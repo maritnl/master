{
 "cells": [
  {
   "cell_type": "code",
   "execution_count": 10,
   "id": "aaeb8071-c90e-45e2-8a03-e2c7f59de8ff",
   "metadata": {},
   "outputs": [],
   "source": [
    "import pandas as pd\n",
    "import geopandas as gpd\n",
    "import numpy as np\n",
    "from sklearn.model_selection import train_test_split\n",
    "from sklearn.metrics import mean_absolute_error, r2_score\n",
    "from sklearn import preprocessing\n",
    "from ipynb.fs.full.helpers import *"
   ]
  },
  {
   "cell_type": "code",
   "execution_count": 8,
   "id": "5f634e5a-06e5-468b-8dcf-ee5f8d1c2b3d",
   "metadata": {},
   "outputs": [],
   "source": [
    "df = pd.read_csv('leg234_data.csv')"
   ]
  },
  {
   "cell_type": "code",
   "execution_count": null,
   "id": "af6d9f5c-fb48-4e78-be38-2d49a94dda15",
   "metadata": {},
   "outputs": [],
   "source": [
    "df = df.astype(float)\n",
    "print(df.dtypes)\n",
    "names = df.columns\n",
    "# Create the Scaler object\n",
    "scaler = preprocessing.StandardScaler()\n",
    "# Fit your data on the scaler object\n",
    "scaled_df = scaler.fit_transform(df)\n",
    "df = pd.DataFrame(scaled_df, columns=names)"
   ]
  },
  {
   "cell_type": "code",
   "execution_count": 11,
   "id": "111af417-c199-4686-a940-fb81bd2f07fc",
   "metadata": {},
   "outputs": [],
   "source": [
    "def split_data(df):\n",
    "    y = df.iloc[:, df.columns == 'TOTAL']\n",
    "    X = df.iloc[:, df.columns != 'TOTAL']\n",
    "\n",
    "    X_train, X_test, y_train, y_test = train_test_split(X, y, test_size=0.2,random_state=123)\n",
    "\n",
    "    X_test, X_val, y_test, y_val = train_test_split(X_test, y_test, \n",
    "        test_size=0.5, random_state=123) \n",
    "    \n",
    "\n",
    "    return X_train, X_val, y_train, y_val\n",
    "\n",
    "def smape(A, F):\n",
    "    return 1/len(A) * np.sum(2 * np.abs(F - A) / (np.abs(A) + np.abs(F)))"
   ]
  },
  {
   "cell_type": "markdown",
   "id": "bb1ddbe6-1a52-454b-b962-3e81034772d8",
   "metadata": {},
   "source": [
    "# Establish a baseline\n",
    "### Very simple model returning the average of the biomass at a depth based on the training data. "
   ]
  },
  {
   "cell_type": "code",
   "execution_count": 12,
   "id": "522c7f4a-781d-4d98-aa6d-3ac93b2c8e89",
   "metadata": {},
   "outputs": [],
   "source": [
    "X_train, X_val, y_train, y_val = split_data(df)\n",
    "df_train = pd.concat([X_train, y_train], axis=1)\n",
    "df_val = pd.concat([X_val, y_val], axis=1)"
   ]
  },
  {
   "cell_type": "code",
   "execution_count": null,
   "id": "6dd2bd8b-e5b5-4390-be20-45bf89cb0924",
   "metadata": {},
   "outputs": [],
   "source": [
    "df_mean = df_train.groupby(['PDMEAN'])['TOTAL'].mean()\n",
    "df_mean = df_mean.reset_index()"
   ]
  },
  {
   "cell_type": "code",
   "execution_count": null,
   "id": "5b7b3908-7000-4418-a2b1-fc902588e5d6",
   "metadata": {},
   "outputs": [],
   "source": [
    "def predict(avg, val):\n",
    "    y_pred = []\n",
    "    for index, row in val.iterrows():\n",
    "        pred = avg.loc[(avg['PDMEAN'] == row['PDMEAN']), 'TOTAL'].iloc[0]\n",
    "        y_pred.append(pred)\n",
    "                   \n",
    "    return y_pred             "
   ]
  },
  {
   "cell_type": "code",
   "execution_count": null,
   "id": "e643a34d-f1d6-4bd6-83e2-def35be52cdd",
   "metadata": {},
   "outputs": [],
   "source": [
    "y_pred = predict(df_mean, df_val)"
   ]
  },
  {
   "cell_type": "code",
   "execution_count": null,
   "id": "7c73fd15-36dd-4aa2-a518-675722045678",
   "metadata": {},
   "outputs": [],
   "source": [
    "print('MAE score: ', mean_absolute_error(y_val, y_pred))\n",
    "print('R2 score: ', r2_score(y_val, y_pred))\n",
    "print('Smape score: ', smape(y_val, np.array(y_pred).reshape(27937,1)))"
   ]
  },
  {
   "cell_type": "code",
   "execution_count": null,
   "id": "a6e0aaf9-bc53-4615-a646-2aa90e0264e4",
   "metadata": {},
   "outputs": [],
   "source": []
  }
 ],
 "metadata": {
  "kernelspec": {
   "display_name": "Python 3",
   "language": "python",
   "name": "python3"
  },
  "language_info": {
   "codemirror_mode": {
    "name": "ipython",
    "version": 3
   },
   "file_extension": ".py",
   "mimetype": "text/x-python",
   "name": "python",
   "nbconvert_exporter": "python",
   "pygments_lexer": "ipython3",
   "version": "3.8.8"
  }
 },
 "nbformat": 4,
 "nbformat_minor": 5
}
