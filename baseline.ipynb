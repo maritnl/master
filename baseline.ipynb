{
 "cells": [
  {
   "cell_type": "code",
   "execution_count": 1,
   "id": "aaeb8071-c90e-45e2-8a03-e2c7f59de8ff",
   "metadata": {},
   "outputs": [],
   "source": [
    "import pandas as pd\n",
    "import geopandas as gpd\n",
    "from sklearn.model_selection import train_test_split\n",
    "from sklearn.metrics import mean_absolute_error, r2_score\n",
    "import numpy as np\n",
    "from sklearn import preprocessing\n",
    "from matplotlib import pyplot as plt\n",
    "from pingouin import multivariate_normality"
   ]
  },
  {
   "cell_type": "code",
   "execution_count": 2,
   "id": "5f634e5a-06e5-468b-8dcf-ee5f8d1c2b3d",
   "metadata": {},
   "outputs": [],
   "source": [
    "df = pd.read_csv('leg234_data.csv')"
   ]
  },
  {
   "cell_type": "code",
   "execution_count": 3,
   "id": "af6d9f5c-fb48-4e78-be38-2d49a94dda15",
   "metadata": {},
   "outputs": [
    {
     "name": "stdout",
     "output_type": "stream",
     "text": [
      "LATITUDE                        float64\n",
      "LONGITUD                        float64\n",
      "PDMEAN                          float64\n",
      "TOTAL                           float64\n",
      "sf_depth                        float64\n",
      "PCO2.H2O_mmm                    float64\n",
      "PCO2.CO2_umm                    float64\n",
      "NMEA.Humidity                   float64\n",
      "NMEA.Trykk                      float64\n",
      "FerryBox.SBE45_Salinity         float64\n",
      "FerryBox.Optode_Saturation      float64\n",
      "FerryBox.C3_Turbidity           float64\n",
      "FerryBox.C3_CHLAFluorescence    float64\n",
      "FerryBox.C3_Temperature         float64\n",
      "FerryBox.C3_CDOMFluorescence    float64\n",
      "day                             float64\n",
      "month                           float64\n",
      "time                            float64\n",
      "dtype: object\n"
     ]
    }
   ],
   "source": [
    "df = df.astype(float)\n",
    "print(df.dtypes)\n",
    "names = df.columns\n",
    "# Create the Scaler object\n",
    "scaler = preprocessing.StandardScaler()\n",
    "# Fit your data on the scaler object\n",
    "scaled_df = scaler.fit_transform(df)\n",
    "df = pd.DataFrame(scaled_df, columns=names)"
   ]
  },
  {
   "cell_type": "code",
   "execution_count": 4,
   "id": "8cfc5a4e-1c38-4518-9e33-5473f269b48f",
   "metadata": {},
   "outputs": [],
   "source": [
    "def smape(A, F):\n",
    "    return 1/len(A) * np.sum(2 * np.abs(F - A) / (np.abs(A) + np.abs(F)))"
   ]
  },
  {
   "cell_type": "code",
   "execution_count": 5,
   "id": "c70b4d9e-0041-40c7-ba83-fb449f625104",
   "metadata": {},
   "outputs": [],
   "source": [
    "def split_data(df):\n",
    "    y = df.iloc[:, df.columns == 'TOTAL']\n",
    "    X = df.iloc[:, df.columns != 'TOTAL']\n",
    "\n",
    "    X_train, X_test, y_train, y_test = train_test_split(X, y, test_size=0.2,random_state=123)\n",
    "\n",
    "    X_test, X_val, y_test, y_val = train_test_split(X_test, y_test, \n",
    "        test_size=0.5, random_state=123) \n",
    "    \n",
    "\n",
    "    return X_train, X_val, y_train, y_val\n"
   ]
  },
  {
   "cell_type": "markdown",
   "id": "bb1ddbe6-1a52-454b-b962-3e81034772d8",
   "metadata": {},
   "source": [
    "# Establish a baseline\n",
    "### Very simple model simply returning the average of the biomass at a depth based on the training data. "
   ]
  },
  {
   "cell_type": "code",
   "execution_count": 6,
   "id": "522c7f4a-781d-4d98-aa6d-3ac93b2c8e89",
   "metadata": {},
   "outputs": [],
   "source": [
    "X_train, X_val, y_train, y_val = split_data(df)\n",
    "df_train = pd.concat([X_train, y_train], axis=1)\n",
    "df_val = pd.concat([X_val, y_val], axis=1)"
   ]
  },
  {
   "cell_type": "code",
   "execution_count": 7,
   "id": "6dd2bd8b-e5b5-4390-be20-45bf89cb0924",
   "metadata": {},
   "outputs": [],
   "source": [
    "df_mean = df_train.groupby(['PDMEAN'])['TOTAL'].mean()\n",
    "df_mean = df_mean.reset_index()"
   ]
  },
  {
   "cell_type": "code",
   "execution_count": 8,
   "id": "8e3ac3dd-829c-4ed2-8ddb-8e89651206b6",
   "metadata": {},
   "outputs": [
    {
     "data": {
      "text/html": [
       "<div>\n",
       "<style scoped>\n",
       "    .dataframe tbody tr th:only-of-type {\n",
       "        vertical-align: middle;\n",
       "    }\n",
       "\n",
       "    .dataframe tbody tr th {\n",
       "        vertical-align: top;\n",
       "    }\n",
       "\n",
       "    .dataframe thead th {\n",
       "        text-align: right;\n",
       "    }\n",
       "</style>\n",
       "<table border=\"1\" class=\"dataframe\">\n",
       "  <thead>\n",
       "    <tr style=\"text-align: right;\">\n",
       "      <th></th>\n",
       "      <th>PDMEAN</th>\n",
       "      <th>TOTAL</th>\n",
       "    </tr>\n",
       "  </thead>\n",
       "  <tbody>\n",
       "    <tr>\n",
       "      <th>0</th>\n",
       "      <td>-1.672024</td>\n",
       "      <td>-0.478082</td>\n",
       "    </tr>\n",
       "    <tr>\n",
       "      <th>1</th>\n",
       "      <td>-1.635900</td>\n",
       "      <td>-0.259161</td>\n",
       "    </tr>\n",
       "    <tr>\n",
       "      <th>2</th>\n",
       "      <td>-1.587735</td>\n",
       "      <td>0.100898</td>\n",
       "    </tr>\n",
       "    <tr>\n",
       "      <th>3</th>\n",
       "      <td>-1.539570</td>\n",
       "      <td>0.380112</td>\n",
       "    </tr>\n",
       "    <tr>\n",
       "      <th>4</th>\n",
       "      <td>-1.491405</td>\n",
       "      <td>0.420310</td>\n",
       "    </tr>\n",
       "    <tr>\n",
       "      <th>...</th>\n",
       "      <td>...</td>\n",
       "      <td>...</td>\n",
       "    </tr>\n",
       "    <tr>\n",
       "      <th>68</th>\n",
       "      <td>1.591175</td>\n",
       "      <td>0.418352</td>\n",
       "    </tr>\n",
       "    <tr>\n",
       "      <th>69</th>\n",
       "      <td>1.639340</td>\n",
       "      <td>0.478976</td>\n",
       "    </tr>\n",
       "    <tr>\n",
       "      <th>70</th>\n",
       "      <td>1.687506</td>\n",
       "      <td>0.503190</td>\n",
       "    </tr>\n",
       "    <tr>\n",
       "      <th>71</th>\n",
       "      <td>1.735671</td>\n",
       "      <td>0.365988</td>\n",
       "    </tr>\n",
       "    <tr>\n",
       "      <th>72</th>\n",
       "      <td>1.783836</td>\n",
       "      <td>0.936378</td>\n",
       "    </tr>\n",
       "  </tbody>\n",
       "</table>\n",
       "<p>73 rows × 2 columns</p>\n",
       "</div>"
      ],
      "text/plain": [
       "      PDMEAN     TOTAL\n",
       "0  -1.672024 -0.478082\n",
       "1  -1.635900 -0.259161\n",
       "2  -1.587735  0.100898\n",
       "3  -1.539570  0.380112\n",
       "4  -1.491405  0.420310\n",
       "..       ...       ...\n",
       "68  1.591175  0.418352\n",
       "69  1.639340  0.478976\n",
       "70  1.687506  0.503190\n",
       "71  1.735671  0.365988\n",
       "72  1.783836  0.936378\n",
       "\n",
       "[73 rows x 2 columns]"
      ]
     },
     "execution_count": 8,
     "metadata": {},
     "output_type": "execute_result"
    }
   ],
   "source": [
    "df_mean"
   ]
  },
  {
   "cell_type": "code",
   "execution_count": 9,
   "id": "5b7b3908-7000-4418-a2b1-fc902588e5d6",
   "metadata": {},
   "outputs": [],
   "source": [
    "def predict(avg, val):\n",
    "    y_pred = []\n",
    "    for index, row in val.iterrows():\n",
    "        pred = avg.loc[(avg['PDMEAN'] == row['PDMEAN']), 'TOTAL'].iloc[0]\n",
    "        y_pred.append(pred)\n",
    "                   \n",
    "    return y_pred             "
   ]
  },
  {
   "cell_type": "code",
   "execution_count": 10,
   "id": "e643a34d-f1d6-4bd6-83e2-def35be52cdd",
   "metadata": {},
   "outputs": [],
   "source": [
    "y_pred = predict(df_mean, df_val)"
   ]
  },
  {
   "cell_type": "code",
   "execution_count": 11,
   "id": "7c73fd15-36dd-4aa2-a518-675722045678",
   "metadata": {},
   "outputs": [
    {
     "name": "stdout",
     "output_type": "stream",
     "text": [
      "MAE score:  0.49828110139033344\n",
      "R2 score:  0.07436671448936549\n",
      "Smape score:  TOTAL    1.213488\n",
      "dtype: float64\n"
     ]
    }
   ],
   "source": [
    "print('MAE score: ', mean_absolute_error(y_val, y_pred))\n",
    "print('R2 score: ', r2_score(y_val, y_pred))\n",
    "print('Smape score: ', smape(y_val, np.array(y_pred).reshape(28458,1)))"
   ]
  },
  {
   "cell_type": "code",
   "execution_count": null,
   "id": "a6e0aaf9-bc53-4615-a646-2aa90e0264e4",
   "metadata": {},
   "outputs": [],
   "source": []
  }
 ],
 "metadata": {
  "kernelspec": {
   "display_name": "Python 3",
   "language": "python",
   "name": "python3"
  },
  "language_info": {
   "codemirror_mode": {
    "name": "ipython",
    "version": 3
   },
   "file_extension": ".py",
   "mimetype": "text/x-python",
   "name": "python",
   "nbconvert_exporter": "python",
   "pygments_lexer": "ipython3",
   "version": "3.8.8"
  }
 },
 "nbformat": 4,
 "nbformat_minor": 5
}
