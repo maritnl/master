{
 "cells": [
  {
   "cell_type": "code",
   "execution_count": 2,
   "id": "aaeb8071-c90e-45e2-8a03-e2c7f59de8ff",
   "metadata": {},
   "outputs": [],
   "source": [
    "import pandas as pd\n",
    "import geopandas as gpd\n",
    "from sklearn.model_selection import train_test_split\n",
    "from sklearn.metrics import mean_absolute_error, r2_score\n",
    "import numpy as np\n",
    "from sklearn import preprocessing\n",
    "from matplotlib import pyplot as plt"
   ]
  },
  {
   "cell_type": "code",
   "execution_count": 87,
   "id": "5f634e5a-06e5-468b-8dcf-ee5f8d1c2b3d",
   "metadata": {},
   "outputs": [],
   "source": [
    "df = pd.read_csv('leg234_data.csv')\n",
    "#Flip wrong datapoints\n",
    "df['LATITUDE'] = np.where((df['LATITUDE']>=10) & (df['date'] >= '2022-02-13'), -df['LATITUDE'], df['LATITUDE'])\n",
    "df = df.drop(columns=['NMEA.Wave_Height', 'PCO2.H2O_mmm', 'PCO2.atm_cond', 'NMEA.Wind_Speed', 'NMEA.Wind_Angle', 'date'])\n",
    "df = df.dropna(subset = ['TOTAL'])\n"
   ]
  },
  {
   "cell_type": "code",
   "execution_count": 88,
   "id": "8cfc5a4e-1c38-4518-9e33-5473f269b48f",
   "metadata": {},
   "outputs": [],
   "source": [
    "def smape(A, F):\n",
    "    return 1/len(A) * np.sum(2 * np.abs(F - A) / (np.abs(A) + np.abs(F)))"
   ]
  },
  {
   "cell_type": "code",
   "execution_count": 89,
   "id": "c70b4d9e-0041-40c7-ba83-fb449f625104",
   "metadata": {},
   "outputs": [],
   "source": [
    "def split_data(df):\n",
    "    y = df.iloc[:, df.columns == 'TOTAL']\n",
    "    X = df.iloc[:, df.columns != 'TOTAL']\n",
    "\n",
    "    X_train, X_test, y_train, y_test = train_test_split(X, y, random_state=123)\n",
    "\n",
    "    X_train, X_val, y_train, y_val = train_test_split(X_train, y_train, \n",
    "        test_size=0.25, random_state=123) \n",
    "    \n",
    "\n",
    "    return X_train, X_val, y_train, y_val\n"
   ]
  },
  {
   "cell_type": "markdown",
   "id": "bb1ddbe6-1a52-454b-b962-3e81034772d8",
   "metadata": {},
   "source": [
    "# Establish a baseline\n",
    "### Very simple model simply returning the average of the biomass at a depth based on the training data. "
   ]
  },
  {
   "cell_type": "code",
   "execution_count": 90,
   "id": "522c7f4a-781d-4d98-aa6d-3ac93b2c8e89",
   "metadata": {},
   "outputs": [],
   "source": [
    "X_train, X_val, y_train, y_val = split_data(df)\n",
    "df_train = pd.concat([X_train, y_train], axis=1)\n",
    "df_val = pd.concat([X_val, y_val], axis=1)"
   ]
  },
  {
   "cell_type": "code",
   "execution_count": 91,
   "id": "6dd2bd8b-e5b5-4390-be20-45bf89cb0924",
   "metadata": {},
   "outputs": [],
   "source": [
    "df_mean = df_train.groupby(['PDMEAN'])['TOTAL'].mean()\n",
    "df_mean = df_mean.reset_index()"
   ]
  },
  {
   "cell_type": "code",
   "execution_count": 92,
   "id": "6bd50e19-2b10-407c-b322-e703a0e0a728",
   "metadata": {},
   "outputs": [
    {
     "data": {
      "text/html": [
       "<div>\n",
       "<style scoped>\n",
       "    .dataframe tbody tr th:only-of-type {\n",
       "        vertical-align: middle;\n",
       "    }\n",
       "\n",
       "    .dataframe tbody tr th {\n",
       "        vertical-align: top;\n",
       "    }\n",
       "\n",
       "    .dataframe thead th {\n",
       "        text-align: right;\n",
       "    }\n",
       "</style>\n",
       "<table border=\"1\" class=\"dataframe\">\n",
       "  <thead>\n",
       "    <tr style=\"text-align: right;\">\n",
       "      <th></th>\n",
       "      <th>PDMEAN</th>\n",
       "      <th>TOTAL</th>\n",
       "    </tr>\n",
       "  </thead>\n",
       "  <tbody>\n",
       "    <tr>\n",
       "      <th>0</th>\n",
       "      <td>7.5</td>\n",
       "      <td>0.000000</td>\n",
       "    </tr>\n",
       "    <tr>\n",
       "      <th>1</th>\n",
       "      <td>15.0</td>\n",
       "      <td>21.259855</td>\n",
       "    </tr>\n",
       "    <tr>\n",
       "      <th>2</th>\n",
       "      <td>25.0</td>\n",
       "      <td>56.064154</td>\n",
       "    </tr>\n",
       "    <tr>\n",
       "      <th>3</th>\n",
       "      <td>35.0</td>\n",
       "      <td>84.623683</td>\n",
       "    </tr>\n",
       "    <tr>\n",
       "      <th>4</th>\n",
       "      <td>45.0</td>\n",
       "      <td>87.818252</td>\n",
       "    </tr>\n",
       "    <tr>\n",
       "      <th>...</th>\n",
       "      <td>...</td>\n",
       "      <td>...</td>\n",
       "    </tr>\n",
       "    <tr>\n",
       "      <th>68</th>\n",
       "      <td>685.0</td>\n",
       "      <td>87.942734</td>\n",
       "    </tr>\n",
       "    <tr>\n",
       "      <th>69</th>\n",
       "      <td>695.0</td>\n",
       "      <td>96.413419</td>\n",
       "    </tr>\n",
       "    <tr>\n",
       "      <th>70</th>\n",
       "      <td>705.0</td>\n",
       "      <td>92.205449</td>\n",
       "    </tr>\n",
       "    <tr>\n",
       "      <th>71</th>\n",
       "      <td>715.0</td>\n",
       "      <td>80.999640</td>\n",
       "    </tr>\n",
       "    <tr>\n",
       "      <th>72</th>\n",
       "      <td>725.0</td>\n",
       "      <td>128.689816</td>\n",
       "    </tr>\n",
       "  </tbody>\n",
       "</table>\n",
       "<p>73 rows × 2 columns</p>\n",
       "</div>"
      ],
      "text/plain": [
       "    PDMEAN       TOTAL\n",
       "0      7.5    0.000000\n",
       "1     15.0   21.259855\n",
       "2     25.0   56.064154\n",
       "3     35.0   84.623683\n",
       "4     45.0   87.818252\n",
       "..     ...         ...\n",
       "68   685.0   87.942734\n",
       "69   695.0   96.413419\n",
       "70   705.0   92.205449\n",
       "71   715.0   80.999640\n",
       "72   725.0  128.689816\n",
       "\n",
       "[73 rows x 2 columns]"
      ]
     },
     "execution_count": 92,
     "metadata": {},
     "output_type": "execute_result"
    }
   ],
   "source": [
    "df_mean"
   ]
  },
  {
   "cell_type": "code",
   "execution_count": 93,
   "id": "432c8600-14f1-4ec1-a448-8c935ac82017",
   "metadata": {},
   "outputs": [
    {
     "data": {
      "text/plain": [
       "56.064154052882614"
      ]
     },
     "execution_count": 93,
     "metadata": {},
     "output_type": "execute_result"
    }
   ],
   "source": [
    "total=df_mean.loc[df['PDMEAN'] == 25, 'TOTAL'].iloc[0]\n",
    "total"
   ]
  },
  {
   "cell_type": "code",
   "execution_count": 95,
   "id": "5b7b3908-7000-4418-a2b1-fc902588e5d6",
   "metadata": {},
   "outputs": [],
   "source": [
    "def predict(avg, val):\n",
    "    y_pred = []\n",
    "    for index, row in val.iterrows():\n",
    "        pred = avg.loc[(avg['PDMEAN'] == row['PDMEAN']), 'TOTAL'].iloc[0]\n",
    "        y_pred.append(pred)\n",
    "                   \n",
    "    return y_pred\n",
    "        \n",
    "        "
   ]
  },
  {
   "cell_type": "code",
   "execution_count": 96,
   "id": "e643a34d-f1d6-4bd6-83e2-def35be52cdd",
   "metadata": {},
   "outputs": [],
   "source": [
    "y_pred = predict(df_mean, df_val)"
   ]
  },
  {
   "cell_type": "code",
   "execution_count": 105,
   "id": "7c73fd15-36dd-4aa2-a518-675722045678",
   "metadata": {},
   "outputs": [
    {
     "name": "stdout",
     "output_type": "stream",
     "text": [
      "MAE score:  48.23614013074081\n",
      "R2 score:  0.07401743644772274\n",
      "Smape score:  TOTAL    1.01848\n",
      "dtype: float64\n"
     ]
    }
   ],
   "source": [
    "print('MAE score: ', mean_absolute_error(y_val, y_pred))\n",
    "print('R2 score: ', r2_score(y_val, y_pred))\n",
    "print('Smape score: ', smape(y_val, np.array(y_pred).reshape(53358,1)))"
   ]
  },
  {
   "cell_type": "code",
   "execution_count": null,
   "id": "89ae6588-2c85-4be7-9698-5ca7a186cfc1",
   "metadata": {},
   "outputs": [],
   "source": []
  }
 ],
 "metadata": {
  "kernelspec": {
   "display_name": "Python 3",
   "language": "python",
   "name": "python3"
  },
  "language_info": {
   "codemirror_mode": {
    "name": "ipython",
    "version": 3
   },
   "file_extension": ".py",
   "mimetype": "text/x-python",
   "name": "python",
   "nbconvert_exporter": "python",
   "pygments_lexer": "ipython3",
   "version": "3.8.8"
  }
 },
 "nbformat": 4,
 "nbformat_minor": 5
}
